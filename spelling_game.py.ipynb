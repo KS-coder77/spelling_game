{
 "cells": [
  {
   "cell_type": "code",
   "execution_count": 1,
   "id": "olympic-heritage",
   "metadata": {},
   "outputs": [
    {
     "name": "stdout",
     "output_type": "stream",
     "text": [
      "<_io.TextIOWrapper name='/Users/krupasarna/Documents/y2words.csv' mode='r' encoding='UTF-8'>\n"
     ]
    }
   ],
   "source": [
    "#create file handle \n",
    "\n",
    "fhand=open('/Users/krupasarna/Documents/y2words.csv')\n",
    "\n",
    "print(fhand)"
   ]
  },
  {
   "cell_type": "code",
   "execution_count": 10,
   "id": "incomplete-signal",
   "metadata": {},
   "outputs": [
    {
     "name": "stdout",
     "output_type": "stream",
     "text": [
      "['after', 'again', 'any', 'bath', 'beautiful', 'because', 'behind', 'both', 'break', 'busy', 'child', 'children', 'Christmas', 'class', 'climb', 'clothes', 'could', 'cold', 'door', 'even', 'every', 'everybody', 'eye', 'fast', 'father', 'find', 'floor', 'gold', 'grass', 'great', 'half', 'hold', 'hour', 'improve', 'kind', 'last', 'many', 'mind', 'money', 'most', 'move', 'Mr', 'Mrs', 'old', 'only', 'parents', 'pass', 'past', 'path', 'people', 'plant', 'poor', 'pretty', 'prove', 'should', 'steak', 'sugar', 'sure', 'told', 'water', 'whole', 'who', 'wild', 'would']\n",
      "64\n",
      "Mrs\n",
      "63\n"
     ]
    }
   ],
   "source": [
    "#read file and put each word into a list and produce a word at random \n",
    "\n",
    "\n",
    "spelling_words='/Users/krupasarna/Documents/y2words.csv'\n",
    "word_list = []\n",
    "import random \n",
    "\n",
    "with open(spelling_words,'r') as f:\n",
    "    word_list = f.read().split()\n",
    "    \n",
    "#print(word_list) \n",
    "print(len(word_list))\n",
    "word_to_spell=random.choice(word_list)\n",
    "print(word_to_spell)\n",
    "word_list.remove(word_to_spell)\n",
    "print(len(word_list))\n"
   ]
  },
  {
   "cell_type": "code",
   "execution_count": 305,
   "id": "billion-uruguay",
   "metadata": {},
   "outputs": [
    {
     "data": {
      "text/plain": [
       "32512"
      ]
     },
     "execution_count": 305,
     "metadata": {},
     "output_type": "execute_result"
    }
   ],
   "source": [
    "#text to speech \n",
    "\n",
    "from gtts import gTTS\n",
    "import os \n",
    "\n",
    "spelling_words='/Users/krupasarna/Documents/y2words.csv'\n",
    "word_list = []\n",
    "\n",
    "with open(spelling_words,'r') as f:\n",
    "    word_list = f.read().split()\n",
    "    \n",
    "\n",
    "random_word='Please spell, ' + random.choice(word_list)\n",
    "#print(random_word)\n",
    "\n",
    "myText=random_word\n",
    "language='en'\n",
    "\n",
    "output=gTTS(text=myText,lang=language, slow=False)\n",
    "\n",
    "output.save('output.mp3')\n",
    "\n",
    "os.system('start output.mp3')\n"
   ]
  },
  {
   "cell_type": "code",
   "execution_count": 326,
   "id": "noticed-mirror",
   "metadata": {},
   "outputs": [
    {
     "name": "stdout",
     "output_type": "stream",
     "text": [
      "Defaulting to user installation because normal site-packages is not writeable\n",
      "Requirement already satisfied: playsound in /Users/krupasarna/Library/Python/3.8/lib/python/site-packages (1.2.2)\n",
      "\u001b[33mWARNING: You are using pip version 21.0.1; however, version 22.1.2 is available.\n",
      "You should consider upgrading via the '/Library/Frameworks/Python.framework/Versions/3.8/bin/python3 -m pip install --upgrade pip' command.\u001b[0m\n",
      "Note: you may need to restart the kernel to use updated packages.\n"
     ]
    }
   ],
   "source": [
    "pip install playsound"
   ]
  },
  {
   "cell_type": "code",
   "execution_count": 1,
   "id": "minor-jersey",
   "metadata": {},
   "outputs": [
    {
     "name": "stdout",
     "output_type": "stream",
     "text": [
      "pygame 2.0.0.dev12 (SDL 2.0.12, python 3.8.5)\n",
      "Hello from the pygame community. https://www.pygame.org/contribute.html\n"
     ]
    },
    {
     "data": {
      "text/html": [
       "        <script type=\"text/javascript\">\n",
       "        window.PlotlyConfig = {MathJaxConfig: 'local'};\n",
       "        if (window.MathJax) {MathJax.Hub.Config({SVG: {font: \"STIX-Web\"}});}\n",
       "        if (typeof require !== 'undefined') {\n",
       "        require.undef(\"plotly\");\n",
       "        requirejs.config({\n",
       "            paths: {\n",
       "                'plotly': ['https://cdn.plot.ly/plotly-latest.min']\n",
       "            }\n",
       "        });\n",
       "        require(['plotly'], function(Plotly) {\n",
       "            window._Plotly = Plotly;\n",
       "        });\n",
       "        }\n",
       "        </script>\n",
       "        "
      ]
     },
     "metadata": {},
     "output_type": "display_data"
    },
    {
     "name": "stdout",
     "output_type": "stream",
     "text": [
      "this is round number, 1\n",
      "this is question number, 1\n",
      "63 words left.\n",
      "This is question number, 2\n",
      "62 words left.\n",
      "This is question number, 3\n",
      "61 words left.\n",
      "This is question number, 4\n",
      "60 words left.\n",
      "This is question number, 5\n",
      "59 words left.\n",
      "this is round number, 2\n",
      "this is question number, 1\n",
      "63 words left.\n",
      "This is question number, 2\n",
      "62 words left.\n",
      "This is question number, 3\n",
      "61 words left.\n",
      "This is question number, 4\n",
      "60 words left.\n",
      "This is question number, 5\n",
      "59 words left.\n",
      "any\n",
      "[1, 2] [5, 4]\n"
     ]
    },
    {
     "data": {
      "application/vnd.plotly.v1+json": {
       "config": {
        "linkText": "Export to plotly.com",
        "plotlyServerURL": "https://plotly.com",
        "showLink": false
       },
       "data": [
        {
         "text": [
          "5",
          "4"
         ],
         "textposition": "inside",
         "type": "bar",
         "x": [
          1,
          2
         ],
         "y": [
          5,
          4
         ]
        }
       ],
       "layout": {
        "template": {
         "data": {
          "bar": [
           {
            "error_x": {
             "color": "#2a3f5f"
            },
            "error_y": {
             "color": "#2a3f5f"
            },
            "marker": {
             "line": {
              "color": "#E5ECF6",
              "width": 0.5
             }
            },
            "type": "bar"
           }
          ],
          "barpolar": [
           {
            "marker": {
             "line": {
              "color": "#E5ECF6",
              "width": 0.5
             }
            },
            "type": "barpolar"
           }
          ],
          "carpet": [
           {
            "aaxis": {
             "endlinecolor": "#2a3f5f",
             "gridcolor": "white",
             "linecolor": "white",
             "minorgridcolor": "white",
             "startlinecolor": "#2a3f5f"
            },
            "baxis": {
             "endlinecolor": "#2a3f5f",
             "gridcolor": "white",
             "linecolor": "white",
             "minorgridcolor": "white",
             "startlinecolor": "#2a3f5f"
            },
            "type": "carpet"
           }
          ],
          "choropleth": [
           {
            "colorbar": {
             "outlinewidth": 0,
             "ticks": ""
            },
            "type": "choropleth"
           }
          ],
          "contour": [
           {
            "colorbar": {
             "outlinewidth": 0,
             "ticks": ""
            },
            "colorscale": [
             [
              0,
              "#0d0887"
             ],
             [
              0.1111111111111111,
              "#46039f"
             ],
             [
              0.2222222222222222,
              "#7201a8"
             ],
             [
              0.3333333333333333,
              "#9c179e"
             ],
             [
              0.4444444444444444,
              "#bd3786"
             ],
             [
              0.5555555555555556,
              "#d8576b"
             ],
             [
              0.6666666666666666,
              "#ed7953"
             ],
             [
              0.7777777777777778,
              "#fb9f3a"
             ],
             [
              0.8888888888888888,
              "#fdca26"
             ],
             [
              1,
              "#f0f921"
             ]
            ],
            "type": "contour"
           }
          ],
          "contourcarpet": [
           {
            "colorbar": {
             "outlinewidth": 0,
             "ticks": ""
            },
            "type": "contourcarpet"
           }
          ],
          "heatmap": [
           {
            "colorbar": {
             "outlinewidth": 0,
             "ticks": ""
            },
            "colorscale": [
             [
              0,
              "#0d0887"
             ],
             [
              0.1111111111111111,
              "#46039f"
             ],
             [
              0.2222222222222222,
              "#7201a8"
             ],
             [
              0.3333333333333333,
              "#9c179e"
             ],
             [
              0.4444444444444444,
              "#bd3786"
             ],
             [
              0.5555555555555556,
              "#d8576b"
             ],
             [
              0.6666666666666666,
              "#ed7953"
             ],
             [
              0.7777777777777778,
              "#fb9f3a"
             ],
             [
              0.8888888888888888,
              "#fdca26"
             ],
             [
              1,
              "#f0f921"
             ]
            ],
            "type": "heatmap"
           }
          ],
          "heatmapgl": [
           {
            "colorbar": {
             "outlinewidth": 0,
             "ticks": ""
            },
            "colorscale": [
             [
              0,
              "#0d0887"
             ],
             [
              0.1111111111111111,
              "#46039f"
             ],
             [
              0.2222222222222222,
              "#7201a8"
             ],
             [
              0.3333333333333333,
              "#9c179e"
             ],
             [
              0.4444444444444444,
              "#bd3786"
             ],
             [
              0.5555555555555556,
              "#d8576b"
             ],
             [
              0.6666666666666666,
              "#ed7953"
             ],
             [
              0.7777777777777778,
              "#fb9f3a"
             ],
             [
              0.8888888888888888,
              "#fdca26"
             ],
             [
              1,
              "#f0f921"
             ]
            ],
            "type": "heatmapgl"
           }
          ],
          "histogram": [
           {
            "marker": {
             "colorbar": {
              "outlinewidth": 0,
              "ticks": ""
             }
            },
            "type": "histogram"
           }
          ],
          "histogram2d": [
           {
            "colorbar": {
             "outlinewidth": 0,
             "ticks": ""
            },
            "colorscale": [
             [
              0,
              "#0d0887"
             ],
             [
              0.1111111111111111,
              "#46039f"
             ],
             [
              0.2222222222222222,
              "#7201a8"
             ],
             [
              0.3333333333333333,
              "#9c179e"
             ],
             [
              0.4444444444444444,
              "#bd3786"
             ],
             [
              0.5555555555555556,
              "#d8576b"
             ],
             [
              0.6666666666666666,
              "#ed7953"
             ],
             [
              0.7777777777777778,
              "#fb9f3a"
             ],
             [
              0.8888888888888888,
              "#fdca26"
             ],
             [
              1,
              "#f0f921"
             ]
            ],
            "type": "histogram2d"
           }
          ],
          "histogram2dcontour": [
           {
            "colorbar": {
             "outlinewidth": 0,
             "ticks": ""
            },
            "colorscale": [
             [
              0,
              "#0d0887"
             ],
             [
              0.1111111111111111,
              "#46039f"
             ],
             [
              0.2222222222222222,
              "#7201a8"
             ],
             [
              0.3333333333333333,
              "#9c179e"
             ],
             [
              0.4444444444444444,
              "#bd3786"
             ],
             [
              0.5555555555555556,
              "#d8576b"
             ],
             [
              0.6666666666666666,
              "#ed7953"
             ],
             [
              0.7777777777777778,
              "#fb9f3a"
             ],
             [
              0.8888888888888888,
              "#fdca26"
             ],
             [
              1,
              "#f0f921"
             ]
            ],
            "type": "histogram2dcontour"
           }
          ],
          "mesh3d": [
           {
            "colorbar": {
             "outlinewidth": 0,
             "ticks": ""
            },
            "type": "mesh3d"
           }
          ],
          "parcoords": [
           {
            "line": {
             "colorbar": {
              "outlinewidth": 0,
              "ticks": ""
             }
            },
            "type": "parcoords"
           }
          ],
          "pie": [
           {
            "automargin": true,
            "type": "pie"
           }
          ],
          "scatter": [
           {
            "marker": {
             "colorbar": {
              "outlinewidth": 0,
              "ticks": ""
             }
            },
            "type": "scatter"
           }
          ],
          "scatter3d": [
           {
            "line": {
             "colorbar": {
              "outlinewidth": 0,
              "ticks": ""
             }
            },
            "marker": {
             "colorbar": {
              "outlinewidth": 0,
              "ticks": ""
             }
            },
            "type": "scatter3d"
           }
          ],
          "scattercarpet": [
           {
            "marker": {
             "colorbar": {
              "outlinewidth": 0,
              "ticks": ""
             }
            },
            "type": "scattercarpet"
           }
          ],
          "scattergeo": [
           {
            "marker": {
             "colorbar": {
              "outlinewidth": 0,
              "ticks": ""
             }
            },
            "type": "scattergeo"
           }
          ],
          "scattergl": [
           {
            "marker": {
             "colorbar": {
              "outlinewidth": 0,
              "ticks": ""
             }
            },
            "type": "scattergl"
           }
          ],
          "scattermapbox": [
           {
            "marker": {
             "colorbar": {
              "outlinewidth": 0,
              "ticks": ""
             }
            },
            "type": "scattermapbox"
           }
          ],
          "scatterpolar": [
           {
            "marker": {
             "colorbar": {
              "outlinewidth": 0,
              "ticks": ""
             }
            },
            "type": "scatterpolar"
           }
          ],
          "scatterpolargl": [
           {
            "marker": {
             "colorbar": {
              "outlinewidth": 0,
              "ticks": ""
             }
            },
            "type": "scatterpolargl"
           }
          ],
          "scatterternary": [
           {
            "marker": {
             "colorbar": {
              "outlinewidth": 0,
              "ticks": ""
             }
            },
            "type": "scatterternary"
           }
          ],
          "surface": [
           {
            "colorbar": {
             "outlinewidth": 0,
             "ticks": ""
            },
            "colorscale": [
             [
              0,
              "#0d0887"
             ],
             [
              0.1111111111111111,
              "#46039f"
             ],
             [
              0.2222222222222222,
              "#7201a8"
             ],
             [
              0.3333333333333333,
              "#9c179e"
             ],
             [
              0.4444444444444444,
              "#bd3786"
             ],
             [
              0.5555555555555556,
              "#d8576b"
             ],
             [
              0.6666666666666666,
              "#ed7953"
             ],
             [
              0.7777777777777778,
              "#fb9f3a"
             ],
             [
              0.8888888888888888,
              "#fdca26"
             ],
             [
              1,
              "#f0f921"
             ]
            ],
            "type": "surface"
           }
          ],
          "table": [
           {
            "cells": {
             "fill": {
              "color": "#EBF0F8"
             },
             "line": {
              "color": "white"
             }
            },
            "header": {
             "fill": {
              "color": "#C8D4E3"
             },
             "line": {
              "color": "white"
             }
            },
            "type": "table"
           }
          ]
         },
         "layout": {
          "annotationdefaults": {
           "arrowcolor": "#2a3f5f",
           "arrowhead": 0,
           "arrowwidth": 1
          },
          "autotypenumbers": "strict",
          "coloraxis": {
           "colorbar": {
            "outlinewidth": 0,
            "ticks": ""
           }
          },
          "colorscale": {
           "diverging": [
            [
             0,
             "#8e0152"
            ],
            [
             0.1,
             "#c51b7d"
            ],
            [
             0.2,
             "#de77ae"
            ],
            [
             0.3,
             "#f1b6da"
            ],
            [
             0.4,
             "#fde0ef"
            ],
            [
             0.5,
             "#f7f7f7"
            ],
            [
             0.6,
             "#e6f5d0"
            ],
            [
             0.7,
             "#b8e186"
            ],
            [
             0.8,
             "#7fbc41"
            ],
            [
             0.9,
             "#4d9221"
            ],
            [
             1,
             "#276419"
            ]
           ],
           "sequential": [
            [
             0,
             "#0d0887"
            ],
            [
             0.1111111111111111,
             "#46039f"
            ],
            [
             0.2222222222222222,
             "#7201a8"
            ],
            [
             0.3333333333333333,
             "#9c179e"
            ],
            [
             0.4444444444444444,
             "#bd3786"
            ],
            [
             0.5555555555555556,
             "#d8576b"
            ],
            [
             0.6666666666666666,
             "#ed7953"
            ],
            [
             0.7777777777777778,
             "#fb9f3a"
            ],
            [
             0.8888888888888888,
             "#fdca26"
            ],
            [
             1,
             "#f0f921"
            ]
           ],
           "sequentialminus": [
            [
             0,
             "#0d0887"
            ],
            [
             0.1111111111111111,
             "#46039f"
            ],
            [
             0.2222222222222222,
             "#7201a8"
            ],
            [
             0.3333333333333333,
             "#9c179e"
            ],
            [
             0.4444444444444444,
             "#bd3786"
            ],
            [
             0.5555555555555556,
             "#d8576b"
            ],
            [
             0.6666666666666666,
             "#ed7953"
            ],
            [
             0.7777777777777778,
             "#fb9f3a"
            ],
            [
             0.8888888888888888,
             "#fdca26"
            ],
            [
             1,
             "#f0f921"
            ]
           ]
          },
          "colorway": [
           "#636efa",
           "#EF553B",
           "#00cc96",
           "#ab63fa",
           "#FFA15A",
           "#19d3f3",
           "#FF6692",
           "#B6E880",
           "#FF97FF",
           "#FECB52"
          ],
          "font": {
           "color": "#2a3f5f"
          },
          "geo": {
           "bgcolor": "white",
           "lakecolor": "white",
           "landcolor": "#E5ECF6",
           "showlakes": true,
           "showland": true,
           "subunitcolor": "white"
          },
          "hoverlabel": {
           "align": "left"
          },
          "hovermode": "closest",
          "mapbox": {
           "style": "light"
          },
          "paper_bgcolor": "white",
          "plot_bgcolor": "#E5ECF6",
          "polar": {
           "angularaxis": {
            "gridcolor": "white",
            "linecolor": "white",
            "ticks": ""
           },
           "bgcolor": "#E5ECF6",
           "radialaxis": {
            "gridcolor": "white",
            "linecolor": "white",
            "ticks": ""
           }
          },
          "scene": {
           "xaxis": {
            "backgroundcolor": "#E5ECF6",
            "gridcolor": "white",
            "gridwidth": 2,
            "linecolor": "white",
            "showbackground": true,
            "ticks": "",
            "zerolinecolor": "white"
           },
           "yaxis": {
            "backgroundcolor": "#E5ECF6",
            "gridcolor": "white",
            "gridwidth": 2,
            "linecolor": "white",
            "showbackground": true,
            "ticks": "",
            "zerolinecolor": "white"
           },
           "zaxis": {
            "backgroundcolor": "#E5ECF6",
            "gridcolor": "white",
            "gridwidth": 2,
            "linecolor": "white",
            "showbackground": true,
            "ticks": "",
            "zerolinecolor": "white"
           }
          },
          "shapedefaults": {
           "line": {
            "color": "#2a3f5f"
           }
          },
          "ternary": {
           "aaxis": {
            "gridcolor": "white",
            "linecolor": "white",
            "ticks": ""
           },
           "baxis": {
            "gridcolor": "white",
            "linecolor": "white",
            "ticks": ""
           },
           "bgcolor": "#E5ECF6",
           "caxis": {
            "gridcolor": "white",
            "linecolor": "white",
            "ticks": ""
           }
          },
          "title": {
           "x": 0.05
          },
          "xaxis": {
           "automargin": true,
           "gridcolor": "white",
           "linecolor": "white",
           "ticks": "",
           "title": {
            "standoff": 15
           },
           "zerolinecolor": "white",
           "zerolinewidth": 2
          },
          "yaxis": {
           "automargin": true,
           "gridcolor": "white",
           "linecolor": "white",
           "ticks": "",
           "title": {
            "standoff": 15
           },
           "zerolinecolor": "white",
           "zerolinewidth": 2
          }
         }
        },
        "title": {
         "font": {
          "family": "Arial",
          "size": 16
         },
         "text": "Spelling Score Card"
        },
        "xaxis": {
         "range": [
          0,
          5
         ],
         "title": {
          "text": "Round"
         }
        },
        "yaxis": {
         "range": [
          0,
          5
         ],
         "title": {
          "text": "Score"
         }
        }
       }
      },
      "text/html": [
       "<div>                            <div id=\"40235277-e9f9-400f-95d1-30fadf9d101b\" class=\"plotly-graph-div\" style=\"height:525px; width:100%;\"></div>            <script type=\"text/javascript\">                require([\"plotly\"], function(Plotly) {                    window.PLOTLYENV=window.PLOTLYENV || {};                                    if (document.getElementById(\"40235277-e9f9-400f-95d1-30fadf9d101b\")) {                    Plotly.newPlot(                        \"40235277-e9f9-400f-95d1-30fadf9d101b\",                        [{\"text\": [\"5\", \"4\"], \"textposition\": \"inside\", \"type\": \"bar\", \"x\": [1, 2], \"y\": [5, 4]}],                        {\"template\": {\"data\": {\"bar\": [{\"error_x\": {\"color\": \"#2a3f5f\"}, \"error_y\": {\"color\": \"#2a3f5f\"}, \"marker\": {\"line\": {\"color\": \"#E5ECF6\", \"width\": 0.5}}, \"type\": \"bar\"}], \"barpolar\": [{\"marker\": {\"line\": {\"color\": \"#E5ECF6\", \"width\": 0.5}}, \"type\": \"barpolar\"}], \"carpet\": [{\"aaxis\": {\"endlinecolor\": \"#2a3f5f\", \"gridcolor\": \"white\", \"linecolor\": \"white\", \"minorgridcolor\": \"white\", \"startlinecolor\": \"#2a3f5f\"}, \"baxis\": {\"endlinecolor\": \"#2a3f5f\", \"gridcolor\": \"white\", \"linecolor\": \"white\", \"minorgridcolor\": \"white\", \"startlinecolor\": \"#2a3f5f\"}, \"type\": \"carpet\"}], \"choropleth\": [{\"colorbar\": {\"outlinewidth\": 0, \"ticks\": \"\"}, \"type\": \"choropleth\"}], \"contour\": [{\"colorbar\": {\"outlinewidth\": 0, \"ticks\": \"\"}, \"colorscale\": [[0.0, \"#0d0887\"], [0.1111111111111111, \"#46039f\"], [0.2222222222222222, \"#7201a8\"], [0.3333333333333333, \"#9c179e\"], [0.4444444444444444, \"#bd3786\"], [0.5555555555555556, \"#d8576b\"], [0.6666666666666666, \"#ed7953\"], [0.7777777777777778, \"#fb9f3a\"], [0.8888888888888888, \"#fdca26\"], [1.0, \"#f0f921\"]], \"type\": \"contour\"}], \"contourcarpet\": [{\"colorbar\": {\"outlinewidth\": 0, \"ticks\": \"\"}, \"type\": \"contourcarpet\"}], \"heatmap\": [{\"colorbar\": {\"outlinewidth\": 0, \"ticks\": \"\"}, \"colorscale\": [[0.0, \"#0d0887\"], [0.1111111111111111, \"#46039f\"], [0.2222222222222222, \"#7201a8\"], [0.3333333333333333, \"#9c179e\"], [0.4444444444444444, \"#bd3786\"], [0.5555555555555556, \"#d8576b\"], [0.6666666666666666, \"#ed7953\"], [0.7777777777777778, \"#fb9f3a\"], [0.8888888888888888, \"#fdca26\"], [1.0, \"#f0f921\"]], \"type\": \"heatmap\"}], \"heatmapgl\": [{\"colorbar\": {\"outlinewidth\": 0, \"ticks\": \"\"}, \"colorscale\": [[0.0, \"#0d0887\"], [0.1111111111111111, \"#46039f\"], [0.2222222222222222, \"#7201a8\"], [0.3333333333333333, \"#9c179e\"], [0.4444444444444444, \"#bd3786\"], [0.5555555555555556, \"#d8576b\"], [0.6666666666666666, \"#ed7953\"], [0.7777777777777778, \"#fb9f3a\"], [0.8888888888888888, \"#fdca26\"], [1.0, \"#f0f921\"]], \"type\": \"heatmapgl\"}], \"histogram\": [{\"marker\": {\"colorbar\": {\"outlinewidth\": 0, \"ticks\": \"\"}}, \"type\": \"histogram\"}], \"histogram2d\": [{\"colorbar\": {\"outlinewidth\": 0, \"ticks\": \"\"}, \"colorscale\": [[0.0, \"#0d0887\"], [0.1111111111111111, \"#46039f\"], [0.2222222222222222, \"#7201a8\"], [0.3333333333333333, \"#9c179e\"], [0.4444444444444444, \"#bd3786\"], [0.5555555555555556, \"#d8576b\"], [0.6666666666666666, \"#ed7953\"], [0.7777777777777778, \"#fb9f3a\"], [0.8888888888888888, \"#fdca26\"], [1.0, \"#f0f921\"]], \"type\": \"histogram2d\"}], \"histogram2dcontour\": [{\"colorbar\": {\"outlinewidth\": 0, \"ticks\": \"\"}, \"colorscale\": [[0.0, \"#0d0887\"], [0.1111111111111111, \"#46039f\"], [0.2222222222222222, \"#7201a8\"], [0.3333333333333333, \"#9c179e\"], [0.4444444444444444, \"#bd3786\"], [0.5555555555555556, \"#d8576b\"], [0.6666666666666666, \"#ed7953\"], [0.7777777777777778, \"#fb9f3a\"], [0.8888888888888888, \"#fdca26\"], [1.0, \"#f0f921\"]], \"type\": \"histogram2dcontour\"}], \"mesh3d\": [{\"colorbar\": {\"outlinewidth\": 0, \"ticks\": \"\"}, \"type\": \"mesh3d\"}], \"parcoords\": [{\"line\": {\"colorbar\": {\"outlinewidth\": 0, \"ticks\": \"\"}}, \"type\": \"parcoords\"}], \"pie\": [{\"automargin\": true, \"type\": \"pie\"}], \"scatter\": [{\"marker\": {\"colorbar\": {\"outlinewidth\": 0, \"ticks\": \"\"}}, \"type\": \"scatter\"}], \"scatter3d\": [{\"line\": {\"colorbar\": {\"outlinewidth\": 0, \"ticks\": \"\"}}, \"marker\": {\"colorbar\": {\"outlinewidth\": 0, \"ticks\": \"\"}}, \"type\": \"scatter3d\"}], \"scattercarpet\": [{\"marker\": {\"colorbar\": {\"outlinewidth\": 0, \"ticks\": \"\"}}, \"type\": \"scattercarpet\"}], \"scattergeo\": [{\"marker\": {\"colorbar\": {\"outlinewidth\": 0, \"ticks\": \"\"}}, \"type\": \"scattergeo\"}], \"scattergl\": [{\"marker\": {\"colorbar\": {\"outlinewidth\": 0, \"ticks\": \"\"}}, \"type\": \"scattergl\"}], \"scattermapbox\": [{\"marker\": {\"colorbar\": {\"outlinewidth\": 0, \"ticks\": \"\"}}, \"type\": \"scattermapbox\"}], \"scatterpolar\": [{\"marker\": {\"colorbar\": {\"outlinewidth\": 0, \"ticks\": \"\"}}, \"type\": \"scatterpolar\"}], \"scatterpolargl\": [{\"marker\": {\"colorbar\": {\"outlinewidth\": 0, \"ticks\": \"\"}}, \"type\": \"scatterpolargl\"}], \"scatterternary\": [{\"marker\": {\"colorbar\": {\"outlinewidth\": 0, \"ticks\": \"\"}}, \"type\": \"scatterternary\"}], \"surface\": [{\"colorbar\": {\"outlinewidth\": 0, \"ticks\": \"\"}, \"colorscale\": [[0.0, \"#0d0887\"], [0.1111111111111111, \"#46039f\"], [0.2222222222222222, \"#7201a8\"], [0.3333333333333333, \"#9c179e\"], [0.4444444444444444, \"#bd3786\"], [0.5555555555555556, \"#d8576b\"], [0.6666666666666666, \"#ed7953\"], [0.7777777777777778, \"#fb9f3a\"], [0.8888888888888888, \"#fdca26\"], [1.0, \"#f0f921\"]], \"type\": \"surface\"}], \"table\": [{\"cells\": {\"fill\": {\"color\": \"#EBF0F8\"}, \"line\": {\"color\": \"white\"}}, \"header\": {\"fill\": {\"color\": \"#C8D4E3\"}, \"line\": {\"color\": \"white\"}}, \"type\": \"table\"}]}, \"layout\": {\"annotationdefaults\": {\"arrowcolor\": \"#2a3f5f\", \"arrowhead\": 0, \"arrowwidth\": 1}, \"autotypenumbers\": \"strict\", \"coloraxis\": {\"colorbar\": {\"outlinewidth\": 0, \"ticks\": \"\"}}, \"colorscale\": {\"diverging\": [[0, \"#8e0152\"], [0.1, \"#c51b7d\"], [0.2, \"#de77ae\"], [0.3, \"#f1b6da\"], [0.4, \"#fde0ef\"], [0.5, \"#f7f7f7\"], [0.6, \"#e6f5d0\"], [0.7, \"#b8e186\"], [0.8, \"#7fbc41\"], [0.9, \"#4d9221\"], [1, \"#276419\"]], \"sequential\": [[0.0, \"#0d0887\"], [0.1111111111111111, \"#46039f\"], [0.2222222222222222, \"#7201a8\"], [0.3333333333333333, \"#9c179e\"], [0.4444444444444444, \"#bd3786\"], [0.5555555555555556, \"#d8576b\"], [0.6666666666666666, \"#ed7953\"], [0.7777777777777778, \"#fb9f3a\"], [0.8888888888888888, \"#fdca26\"], [1.0, \"#f0f921\"]], \"sequentialminus\": [[0.0, \"#0d0887\"], [0.1111111111111111, \"#46039f\"], [0.2222222222222222, \"#7201a8\"], [0.3333333333333333, \"#9c179e\"], [0.4444444444444444, \"#bd3786\"], [0.5555555555555556, \"#d8576b\"], [0.6666666666666666, \"#ed7953\"], [0.7777777777777778, \"#fb9f3a\"], [0.8888888888888888, \"#fdca26\"], [1.0, \"#f0f921\"]]}, \"colorway\": [\"#636efa\", \"#EF553B\", \"#00cc96\", \"#ab63fa\", \"#FFA15A\", \"#19d3f3\", \"#FF6692\", \"#B6E880\", \"#FF97FF\", \"#FECB52\"], \"font\": {\"color\": \"#2a3f5f\"}, \"geo\": {\"bgcolor\": \"white\", \"lakecolor\": \"white\", \"landcolor\": \"#E5ECF6\", \"showlakes\": true, \"showland\": true, \"subunitcolor\": \"white\"}, \"hoverlabel\": {\"align\": \"left\"}, \"hovermode\": \"closest\", \"mapbox\": {\"style\": \"light\"}, \"paper_bgcolor\": \"white\", \"plot_bgcolor\": \"#E5ECF6\", \"polar\": {\"angularaxis\": {\"gridcolor\": \"white\", \"linecolor\": \"white\", \"ticks\": \"\"}, \"bgcolor\": \"#E5ECF6\", \"radialaxis\": {\"gridcolor\": \"white\", \"linecolor\": \"white\", \"ticks\": \"\"}}, \"scene\": {\"xaxis\": {\"backgroundcolor\": \"#E5ECF6\", \"gridcolor\": \"white\", \"gridwidth\": 2, \"linecolor\": \"white\", \"showbackground\": true, \"ticks\": \"\", \"zerolinecolor\": \"white\"}, \"yaxis\": {\"backgroundcolor\": \"#E5ECF6\", \"gridcolor\": \"white\", \"gridwidth\": 2, \"linecolor\": \"white\", \"showbackground\": true, \"ticks\": \"\", \"zerolinecolor\": \"white\"}, \"zaxis\": {\"backgroundcolor\": \"#E5ECF6\", \"gridcolor\": \"white\", \"gridwidth\": 2, \"linecolor\": \"white\", \"showbackground\": true, \"ticks\": \"\", \"zerolinecolor\": \"white\"}}, \"shapedefaults\": {\"line\": {\"color\": \"#2a3f5f\"}}, \"ternary\": {\"aaxis\": {\"gridcolor\": \"white\", \"linecolor\": \"white\", \"ticks\": \"\"}, \"baxis\": {\"gridcolor\": \"white\", \"linecolor\": \"white\", \"ticks\": \"\"}, \"bgcolor\": \"#E5ECF6\", \"caxis\": {\"gridcolor\": \"white\", \"linecolor\": \"white\", \"ticks\": \"\"}}, \"title\": {\"x\": 0.05}, \"xaxis\": {\"automargin\": true, \"gridcolor\": \"white\", \"linecolor\": \"white\", \"ticks\": \"\", \"title\": {\"standoff\": 15}, \"zerolinecolor\": \"white\", \"zerolinewidth\": 2}, \"yaxis\": {\"automargin\": true, \"gridcolor\": \"white\", \"linecolor\": \"white\", \"ticks\": \"\", \"title\": {\"standoff\": 15}, \"zerolinecolor\": \"white\", \"zerolinewidth\": 2}}}, \"title\": {\"font\": {\"family\": \"Arial\", \"size\": 16}, \"text\": \"Spelling Score Card\"}, \"xaxis\": {\"range\": [0, 5], \"title\": {\"text\": \"Round\"}}, \"yaxis\": {\"range\": [0, 5], \"title\": {\"text\": \"Score\"}}},                        {\"responsive\": true}                    ).then(function(){\n",
       "                            \n",
       "var gd = document.getElementById('40235277-e9f9-400f-95d1-30fadf9d101b');\n",
       "var x = new MutationObserver(function (mutations, observer) {{\n",
       "        var display = window.getComputedStyle(gd).display;\n",
       "        if (!display || display === 'none') {{\n",
       "            console.log([gd, 'removed!']);\n",
       "            Plotly.purge(gd);\n",
       "            observer.disconnect();\n",
       "        }}\n",
       "}});\n",
       "\n",
       "// Listen for the removal of the full notebook cells\n",
       "var notebookContainer = gd.closest('#notebook-container');\n",
       "if (notebookContainer) {{\n",
       "    x.observe(notebookContainer, {childList: true});\n",
       "}}\n",
       "\n",
       "// Listen for the clearing of the current output cell\n",
       "var outputEl = gd.closest('.output');\n",
       "if (outputEl) {{\n",
       "    x.observe(outputEl, {childList: true});\n",
       "}}\n",
       "\n",
       "                        })                };                });            </script>        </div>"
      ]
     },
     "metadata": {},
     "output_type": "display_data"
    }
   ],
   "source": [
    "#build a spelling game \n",
    "\n",
    "#import necessary libraries for GUI, text to speech and audio player\n",
    "\n",
    "import sqlite3\n",
    "\n",
    "from gtts import gTTS\n",
    "import os \n",
    "\n",
    "\n",
    "from pygame import mixer\n",
    "\n",
    "import tkinter as tk\n",
    "from tkinter import * \n",
    "\n",
    "\n",
    "import random \n",
    "\n",
    "import plotly.graph_objs as go \n",
    "import plotly.offline as offline \n",
    "\n",
    "offline.init_notebook_mode(connected=True)\n",
    "\n",
    "\n",
    "database_filepath='spelling_game_Scores.db'\n",
    "\n",
    "if os.path.exists(database_filepath):\n",
    "    os.remove(database_filepath)\n",
    "    \n",
    "conn=sqlite3.connect(database_filepath)\n",
    "cur=conn.cursor()\n",
    "\n",
    "cur.executescript('''\n",
    "\n",
    "CREATE TABLE Scores(Round INTEGER, Score INTEGER);\n",
    "\n",
    "CREATE TABLE Mistakes(id INTEGER, Mistake VARCHAR(200))\n",
    "\n",
    "''')\n",
    "\n",
    "\n",
    "\n",
    "\n",
    "#create a window\n",
    "window=tk.Tk()\n",
    "window.title('Lets practise our spelling!')\n",
    "\n",
    "#state variables \n",
    "start=StringVar()            \n",
    "info=StringVar()\n",
    "Next=StringVar()\n",
    "\n",
    "score=0\n",
    "q_num=0\n",
    "round_num=0\n",
    "\n",
    "#create a function to welcome the user\n",
    "def welcome():\n",
    "    start.set('Play')\n",
    "    info.set(\"Welcome, let's practise some spelling! Press the play button to begin!\")\n",
    "    ent_spell.grid_remove()\n",
    "    submit_btn.grid_remove()\n",
    "    next_btn.grid_remove()\n",
    "    yes_btn.grid_remove()\n",
    "    no_btn.grid_remove()\n",
    "    repeat_btn.grid_remove()\n",
    "\n",
    "\n",
    "#create a fucntion to start the game\n",
    "def start_game():\n",
    "    \n",
    "    global spelling_word\n",
    "    global word_list\n",
    "    global q_num\n",
    "    q_num=q_num+1\n",
    "    global round_num\n",
    "    round_num=round_num+1 \n",
    "    global myText \n",
    "   \n",
    "    \n",
    "    info_label.grid_remove()\n",
    "    start_game_btn.grid_remove()\n",
    "    ent_spell.grid()\n",
    "    submit_btn.grid()\n",
    "    next_btn.grid()\n",
    "    repeat_btn.grid()\n",
    "    Next.set('Next')\n",
    "    next_btn.config(state='disabled')\n",
    "    \n",
    "    \n",
    "    spelling_words='/Users/krupasarna/Documents/y2words.csv'\n",
    "    word_list = []\n",
    "    \n",
    "\n",
    "    with open(spelling_words,'r') as f:\n",
    "        word_list = f.read().split()\n",
    "    \n",
    "    \n",
    "        \n",
    "    spelling_word=random.choice(word_list)\n",
    "    #answer.config(text=spelling_word)\n",
    "    random_word='Please spell, ' + spelling_word\n",
    "    word_list.remove(spelling_word)\n",
    "    \n",
    "    \n",
    "    \n",
    "    myText=random_word\n",
    "    language='en'\n",
    "\n",
    "    output=gTTS(text=myText,lang=language, slow=False)\n",
    "\n",
    "    output.save('/Users/krupasarna/Documents/output.mp3')\n",
    "\n",
    "    mixer.init()\n",
    "    mixer.music.load('/Users/krupasarna/Documents/output.mp3')\n",
    "    mixer.music.play()\n",
    "\n",
    "    print('this is round number, ' + str(round_num))\n",
    "    print('this is question number, ' + str(q_num))\n",
    "    print(str(len(word_list))+' words left.')\n",
    "   \n",
    "\n",
    "    #os.system('/Users/krupasarna/Documents/output.mp3')\n",
    "    \n",
    "    #os.startfile('/Users/krupasarna/Documents/output.mp3')\n",
    "\n",
    "    #answer.config(text=spelling_word)\n",
    "\n",
    "def submit_spelling():\n",
    "    \n",
    "    global spelling_word \n",
    "    global word_list\n",
    "    global score \n",
    "    \n",
    "    \n",
    "    next_btn.config(state='normal')\n",
    "   \n",
    "    correct_answer= spelling_word\n",
    "   \n",
    "\n",
    "    if str(ent_spell.get()) == correct_answer:\n",
    "            answer.config(text='Correct!')\n",
    "            score=score+1\n",
    "            ent_spell.delete(0,END)\n",
    "            ent_spell.config(state='disabled')\n",
    "            submit_btn.config(state='disabled')\n",
    "            repeat_btn.config(state='disabled')\n",
    "            next_btn.config(state='normal')\n",
    "    else:\n",
    "            answer.config(text='Incorrect!')\n",
    "            ent_spell.delete(0,END)\n",
    "            ent_spell.config(state='disabled')\n",
    "            submit_btn.config(state='disabled')\n",
    "            repeat_btn.config(state='disabled')\n",
    "            next_btn.config(state='normal')\n",
    "            \n",
    "            print(spelling_word)\n",
    "            \n",
    "            \n",
    "            cur.execute('''INSERT INTO Mistakes (mistake) values (?)''', (spelling_word,))\n",
    "            \n",
    "def repeat_question():\n",
    "    \n",
    "    global myText\n",
    "    \n",
    "    language='en'\n",
    "\n",
    "    output=gTTS(text=myText,lang=language, slow=False)\n",
    "\n",
    "    output.save('/Users/krupasarna/Documents/output.mp3')\n",
    "\n",
    "    mixer.init()\n",
    "    mixer.music.load('/Users/krupasarna/Documents/output.mp3')\n",
    "    mixer.music.play()\n",
    "    \n",
    "\n",
    "            \n",
    "def next_question():\n",
    "    \n",
    "    global spelling_word\n",
    "    global word_list\n",
    "    global q_num\n",
    "    global myText\n",
    "    \n",
    "    \n",
    "    q_num=q_num+1\n",
    "    print('This is question number, ' + str(q_num))\n",
    "    \n",
    "    \n",
    "    ent_spell.config(state='normal')\n",
    "    submit_btn.config(state='normal')\n",
    "    repeat_btn.config(state='normal')\n",
    "    next_btn.config(state='disabled')\n",
    "    start_game_btn.grid_remove()\n",
    "    \n",
    "        \n",
    "    spelling_word=random.choice(word_list)\n",
    "    #answer.config(text=spelling_word)\n",
    "    random_word='Please spell, ' + spelling_word\n",
    "    word_list.remove(spelling_word)\n",
    "    print(str(len(word_list))+' words left.')\n",
    "\n",
    "    myText=random_word\n",
    "    language='en'\n",
    "\n",
    "    output=gTTS(text=myText,lang=language, slow=False)\n",
    "\n",
    "    output.save('/Users/krupasarna/Documents/output.mp3')\n",
    "\n",
    "    mixer.init()\n",
    "    mixer.music.load('/Users/krupasarna/Documents/output.mp3')\n",
    "    mixer.music.play()\n",
    "    \n",
    "    if q_num == 5:\n",
    "        Next.set('Finish')\n",
    "        next_btn.config(command=end_msg)\n",
    "            \n",
    "    if q_num >5:\n",
    "        info_label.grid()\n",
    "        info.set('You have finished the game!')\n",
    "        ent_spell.config(state='disabled')\n",
    "        \n",
    "        \n",
    "def end_msg():\n",
    "    \n",
    "    global score \n",
    "    global q_num\n",
    "    global round_num\n",
    "    \n",
    "    \n",
    "    info_label.grid()\n",
    "    info.set('You scored, ' +str(score) + ' out of ' + str(q_num) + '. Would you like to play again?')\n",
    "    yes_btn.grid()\n",
    "    no_btn.grid()\n",
    "    submit_btn.grid_remove()\n",
    "    next_btn.grid_remove()\n",
    "    ent_spell.grid_remove()\n",
    "    answer.grid_remove()\n",
    "    repeat_btn.grid_remove()\n",
    "    \n",
    "    cur.execute('''INSERT INTO Scores VALUES (?, ?)''', (round_num, score))\n",
    "    \n",
    "    \n",
    "def play_again():    \n",
    "    \n",
    "    global spelling_word\n",
    "    global word_list\n",
    "    global q_num\n",
    "    global score \n",
    "    global round_num\n",
    "    global myText\n",
    "    \n",
    "    \n",
    "    q_num=0\n",
    "    score=0\n",
    "    \n",
    "    \n",
    "    q_num=q_num+1\n",
    "    round_num=round_num+1\n",
    "    \n",
    "    info_label.grid_remove()\n",
    "    start_game_btn.grid_remove()\n",
    "    yes_btn.grid_remove()\n",
    "    no_btn.grid_remove()\n",
    "    ent_spell.grid()\n",
    "    ent_spell.config(state='normal')\n",
    "    submit_btn.grid()\n",
    "    submit_btn.config(state='normal')\n",
    "    next_btn.grid()\n",
    "    Next.set('Next')\n",
    "    next_btn.config(state='disabled')\n",
    "    next_btn.config(command=next_question)\n",
    "    answer.grid()\n",
    "    \n",
    "    \n",
    "    spelling_words='/Users/krupasarna/Documents/y2words.csv'\n",
    "    word_list = []\n",
    "    \n",
    "\n",
    "    with open(spelling_words,'r') as f:\n",
    "        word_list = f.read().split()\n",
    "    \n",
    "    \n",
    "        \n",
    "    spelling_word=random.choice(word_list)\n",
    "    #answer.config(text=spelling_word)\n",
    "    random_word='Please spell, ' + spelling_word\n",
    "    word_list.remove(spelling_word)\n",
    "    \n",
    "    \n",
    "    myText=random_word\n",
    "    language='en'\n",
    "\n",
    "    output=gTTS(text=myText,lang=language, slow=False)\n",
    "\n",
    "    output.save('/Users/krupasarna/Documents/output.mp3')\n",
    "\n",
    "    mixer.init()\n",
    "    mixer.music.load('/Users/krupasarna/Documents/output.mp3')\n",
    "    mixer.music.play()\n",
    "\n",
    "    print('this is round number, ' + str(round_num))\n",
    "    print('this is question number, ' + str(q_num))\n",
    "    print(str(len(word_list))+' words left.')\n",
    "\n",
    "\n",
    "def end_game():\n",
    "    info.set('Thank you for playing. You may close the window now.')\n",
    "    yes_btn.grid_remove()\n",
    "    no_btn.grid_remove()\n",
    "    \n",
    "    cur.execute('''SELECT round FROM Scores''')\n",
    "    sc_round=[item[0] for item in cur.fetchall()]\n",
    "    \n",
    "    cur.execute('''SELECT score FROM Scores''')\n",
    "    sc_score=[item[0] for item in cur.fetchall()]\n",
    "    print((sc_round),(sc_score))\n",
    "    \n",
    "    trace=go.Bar(x=sc_round, y=sc_score,\n",
    "            \n",
    "            \n",
    "            text=sc_score,\n",
    "            textposition='inside')\n",
    "            \n",
    "            \n",
    "    data=[trace]\n",
    "    layout=go.Layout(title='Spelling Score Card',\n",
    "                \n",
    "                \n",
    "                titlefont=dict(family='Arial', size=16),\n",
    "                \n",
    "                xaxis=dict(title='Round'),\n",
    "                xaxis_range=[0,5],\n",
    "                yaxis_range=[0,5],\n",
    "                yaxis=dict(title='Score')\n",
    "                       \n",
    "                    )\n",
    "    \n",
    "    fig=go.Figure(data=data, layout=layout)\n",
    "    offline.iplot(fig)\n",
    "   \n",
    "    \n",
    "#create a user entry box\n",
    "ent_spell=tk.Entry(width=50)\n",
    "ent_spell.grid(row=2, column=2, padx=20)   \n",
    "    \n",
    "#create a label widget to display info \n",
    "info_label=tk.Label(window, textvariable=info)\n",
    "info_label.grid(row=1, column=2)\n",
    "                \n",
    "#create a button to start the game \n",
    "start_game_btn=tk.Button(textvariable=start, command=start_game)\n",
    "start_game_btn.grid(row=3, column=4)\n",
    "\n",
    "#create a next button \n",
    "next_btn=tk.Button(textvariable=Next, command=next_question)\n",
    "next_btn.grid(row=3, column=4)\n",
    "\n",
    "#create a submit entry button \n",
    "submit_btn=tk.Button(text='Submit', command=submit_spelling)\n",
    "submit_btn.grid(row=3, column=2)\n",
    "\n",
    "#create a yes button\n",
    "yes_btn=tk.Button(text='Yes', command=play_again)\n",
    "yes_btn.grid(row=3, column=2)\n",
    "\n",
    "#create a no button \n",
    "no_btn=tk.Button(text='No', command=end_game)\n",
    "no_btn.grid(row=3, column=3)\n",
    "\n",
    "#create a repeat question button\n",
    "repeat_btn=tk.Button(text='Repeat', command=repeat_question)\n",
    "repeat_btn.grid(row=2, column=3)\n",
    "\n",
    "#create an answer in the GUI to display output messages \n",
    "answer=tk.Label(text='')\n",
    "answer.grid(row=4, column=2)\n",
    "\n",
    "\n",
    "welcome()\n",
    "\n",
    "\n",
    "#loop and close the window             \n",
    "window.mainloop()\n",
    "\n",
    "\n",
    "cur.close()\n",
    "conn.commit()\n",
    "conn.close()\n",
    "window.quit()"
   ]
  },
  {
   "cell_type": "code",
   "execution_count": null,
   "id": "impressed-surprise",
   "metadata": {},
   "outputs": [],
   "source": []
  },
  {
   "cell_type": "code",
   "execution_count": 333,
   "id": "empty-yesterday",
   "metadata": {},
   "outputs": [
    {
     "name": "stdout",
     "output_type": "stream",
     "text": [
      "Defaulting to user installation because normal site-packages is not writeable\n",
      "Collecting pyttsx3\n",
      "  Downloading pyttsx3-2.90-py3-none-any.whl (39 kB)\n",
      "Collecting pyobjc>=2.4\n",
      "  Downloading pyobjc-8.5-py3-none-any.whl (3.8 kB)\n",
      "Collecting pyobjc-framework-NetworkExtension==8.5\n",
      "  Downloading pyobjc_framework_NetworkExtension-8.5-cp36-abi3-macosx_10_9_x86_64.whl (10 kB)\n",
      "Collecting pyobjc-framework-MultipeerConnectivity==8.5\n",
      "  Downloading pyobjc_framework_MultipeerConnectivity-8.5-cp36-abi3-macosx_10_9_x86_64.whl (8.8 kB)\n",
      "Collecting pyobjc-framework-Social==8.5\n",
      "  Downloading pyobjc_framework_Social-8.5-py2.py3-none-any.whl (4.0 kB)\n",
      "Collecting pyobjc-framework-IOSurface==8.5\n",
      "  Downloading pyobjc_framework_IOSurface-8.5-py2.py3-none-any.whl (4.4 kB)\n",
      "Collecting pyobjc-framework-ExternalAccessory==8.5\n",
      "  Downloading pyobjc_framework_ExternalAccessory-8.5-cp36-abi3-macosx_10_9_x86_64.whl (6.5 kB)\n",
      "Collecting pyobjc-framework-CFNetwork==8.5\n",
      "  Downloading pyobjc_framework_CFNetwork-8.5-cp36-abi3-macosx_10_9_x86_64.whl (12 kB)\n",
      "Collecting pyobjc-framework-NetFS==8.5\n",
      "  Downloading pyobjc_framework_NetFS-8.5-py2.py3-none-any.whl (3.7 kB)\n",
      "Collecting pyobjc-framework-DictionaryServices==8.5\n",
      "  Downloading pyobjc_framework_DictionaryServices-8.5-py2.py3-none-any.whl (3.4 kB)\n",
      "Collecting pyobjc-framework-SecurityInterface==8.5\n",
      "  Downloading pyobjc_framework_SecurityInterface-8.5-cp36-abi3-macosx_10_9_x86_64.whl (7.5 kB)\n",
      "Collecting pyobjc-framework-iTunesLibrary==8.5\n",
      "  Downloading pyobjc_framework_iTunesLibrary-8.5-py2.py3-none-any.whl (4.7 kB)\n",
      "Collecting pyobjc-framework-OSAKit==8.5\n",
      "  Downloading pyobjc_framework_OSAKit-8.5-py2.py3-none-any.whl (3.6 kB)\n",
      "Collecting pyobjc-framework-SafariServices==8.5\n",
      "  Downloading pyobjc_framework_SafariServices-8.5-cp36-abi3-macosx_10_9_x86_64.whl (5.8 kB)\n",
      "Collecting pyobjc-framework-CryptoTokenKit==8.5\n",
      "  Downloading pyobjc_framework_CryptoTokenKit-8.5-cp36-abi3-macosx_10_9_x86_64.whl (9.3 kB)\n",
      "Collecting pyobjc-framework-MetalKit==8.5\n",
      "  Downloading pyobjc_framework_MetalKit-8.5-cp36-abi3-macosx_10_9_x86_64.whl (6.4 kB)\n",
      "Collecting pyobjc-framework-GameController==8.5\n",
      "  Downloading pyobjc_framework_GameController-8.5-cp36-abi3-macosx_10_9_x86_64.whl (9.2 kB)\n",
      "Collecting pyobjc-framework-ColorSync==8.5\n",
      "  Downloading pyobjc_framework_ColorSync-8.5-py2.py3-none-any.whl (5.4 kB)\n",
      "Collecting pyobjc-framework-InstantMessage==8.5\n",
      "  Downloading pyobjc_framework_InstantMessage-8.5-py2.py3-none-any.whl (4.9 kB)\n",
      "Collecting pyobjc-framework-CoreLocation==8.5\n",
      "  Downloading pyobjc_framework_CoreLocation-8.5-cp36-abi3-macosx_10_9_x86_64.whl (9.3 kB)\n",
      "Collecting pyobjc-framework-ScreenSaver==8.5\n",
      "  Downloading pyobjc_framework_ScreenSaver-8.5-cp36-abi3-macosx_10_9_x86_64.whl (6.3 kB)\n",
      "Collecting pyobjc-framework-ContactsUI==8.5\n",
      "  Downloading pyobjc_framework_ContactsUI-8.5-cp36-abi3-macosx_10_9_x86_64.whl (5.7 kB)\n",
      "Collecting pyobjc-framework-Quartz==8.5\n",
      "  Downloading pyobjc_framework_Quartz-8.5-cp38-cp38-macosx_10_9_x86_64.whl (144 kB)\n",
      "\u001b[K     |████████████████████████████████| 144 kB 7.7 MB/s eta 0:00:01\n",
      "\u001b[?25hCollecting pyobjc-framework-ApplicationServices==8.5\n",
      "  Downloading pyobjc_framework_ApplicationServices-8.5-cp38-cp38-macosx_10_9_x86_64.whl (22 kB)\n",
      "Collecting pyobjc-framework-SyncServices==8.5\n",
      "  Downloading pyobjc_framework_SyncServices-8.5-cp36-abi3-macosx_10_9_x86_64.whl (10 kB)\n",
      "Collecting pyobjc-framework-SpriteKit==8.5\n",
      "  Downloading pyobjc_framework_SpriteKit-8.5-cp38-cp38-macosx_10_9_x86_64.whl (11 kB)\n",
      "Collecting pyobjc-framework-AVKit==8.5\n",
      "  Downloading pyobjc_framework_AVKit-8.5-cp36-abi3-macosx_10_9_x86_64.whl (8.0 kB)\n",
      "Collecting pyobjc-framework-Collaboration==8.5\n",
      "  Downloading pyobjc_framework_Collaboration-8.5-py2.py3-none-any.whl (4.4 kB)\n",
      "Collecting pyobjc-framework-GameKit==8.5\n",
      "  Downloading pyobjc_framework_GameKit-8.5-cp36-abi3-macosx_10_9_x86_64.whl (15 kB)\n",
      "Collecting pyobjc-framework-StoreKit==8.5\n",
      "  Downloading pyobjc_framework_StoreKit-8.5-cp36-abi3-macosx_10_9_x86_64.whl (8.5 kB)\n",
      "Collecting pyobjc-framework-EventKit==8.5\n",
      "  Downloading pyobjc_framework_EventKit-8.5-py2.py3-none-any.whl (5.9 kB)\n",
      "Collecting pyobjc-framework-IMServicePlugIn==8.5\n",
      "  Downloading pyobjc_framework_IMServicePlugIn-8.5-cp36-abi3-macosx_10_9_x86_64.whl (9.5 kB)\n",
      "Collecting pyobjc-framework-CoreBluetooth==8.5\n",
      "  Downloading pyobjc_framework_CoreBluetooth-8.5-cp36-abi3-macosx_10_9_x86_64.whl (9.9 kB)\n",
      "Collecting pyobjc-framework-Accounts==8.5\n",
      "  Downloading pyobjc_framework_Accounts-8.5-py2.py3-none-any.whl (4.6 kB)\n",
      "Collecting pyobjc-framework-MediaToolbox==8.5\n",
      "  Downloading pyobjc_framework_MediaToolbox-8.5-cp36-abi3-macosx_10_9_x86_64.whl (8.3 kB)\n",
      "Collecting pyobjc-framework-CoreMediaIO==8.5\n",
      "  Downloading pyobjc_framework_CoreMediaIO-8.5-cp36-abi3-macosx_10_9_x86_64.whl (13 kB)\n",
      "Collecting pyobjc-framework-DiskArbitration==8.5\n",
      "  Downloading pyobjc_framework_DiskArbitration-8.5-py2.py3-none-any.whl (4.4 kB)\n",
      "Collecting pyobjc-framework-PreferencePanes==8.5\n",
      "  Downloading pyobjc_framework_PreferencePanes-8.5-py2.py3-none-any.whl (4.3 kB)\n",
      "Collecting pyobjc-framework-LocalAuthentication==8.5\n",
      "  Downloading pyobjc_framework_LocalAuthentication-8.5-py2.py3-none-any.whl (5.0 kB)\n",
      "Collecting pyobjc-framework-MediaAccessibility==8.5\n",
      "  Downloading pyobjc_framework_MediaAccessibility-8.5-py2.py3-none-any.whl (3.9 kB)\n",
      "Collecting pyobjc-framework-CoreSpotlight==8.5\n",
      "  Downloading pyobjc_framework_CoreSpotlight-8.5-cp36-abi3-macosx_10_9_x86_64.whl (6.9 kB)\n",
      "Collecting pyobjc-framework-CoreML==8.5\n",
      "  Downloading pyobjc_framework_CoreML-8.5-cp36-abi3-macosx_10_9_x86_64.whl (8.2 kB)\n",
      "Collecting pyobjc-framework-LatentSemanticMapping==8.5\n",
      "  Downloading pyobjc_framework_LatentSemanticMapping-8.5-py2.py3-none-any.whl (4.9 kB)\n",
      "Collecting pyobjc-framework-AppleScriptObjC==8.5\n",
      "  Downloading pyobjc_framework_AppleScriptObjC-8.5-py2.py3-none-any.whl (3.9 kB)\n",
      "Collecting pyobjc-framework-FSEvents==8.5\n",
      "  Downloading pyobjc_framework_FSEvents-8.5-cp36-abi3-macosx_10_9_x86_64.whl (8.9 kB)\n",
      "Collecting pyobjc-framework-ExceptionHandling==8.5\n",
      "  Downloading pyobjc_framework_ExceptionHandling-8.5-py2.py3-none-any.whl (7.4 kB)\n",
      "Collecting pyobjc-framework-BusinessChat==8.5\n",
      "  Downloading pyobjc_framework_BusinessChat-8.5-py2.py3-none-any.whl (3.0 kB)\n",
      "Collecting pyobjc-framework-ModelIO==8.5\n",
      "  Downloading pyobjc_framework_ModelIO-8.5-cp36-abi3-macosx_10_9_x86_64.whl (13 kB)\n",
      "Collecting pyobjc-framework-Cocoa==8.5\n",
      "  Downloading pyobjc_framework_Cocoa-8.5-cp38-cp38-macosx_10_9_x86_64.whl (283 kB)\n",
      "\u001b[K     |████████████████████████████████| 283 kB 23.1 MB/s eta 0:00:01\n",
      "\u001b[?25hCollecting pyobjc-framework-CloudKit==8.5\n",
      "  Downloading pyobjc_framework_CloudKit-8.5-py2.py3-none-any.whl (7.8 kB)\n",
      "Collecting pyobjc-framework-FinderSync==8.5\n",
      "  Downloading pyobjc_framework_FinderSync-8.5-py2.py3-none-any.whl (4.4 kB)\n",
      "Collecting pyobjc-framework-CoreMedia==8.5\n",
      "  Downloading pyobjc_framework_CoreMedia-8.5-cp38-cp38-macosx_10_9_x86_64.whl (19 kB)\n",
      "Collecting pyobjc-framework-SceneKit==8.5\n",
      "  Downloading pyobjc_framework_SceneKit-8.5-cp36-abi3-macosx_10_9_x86_64.whl (21 kB)\n",
      "Collecting pyobjc-framework-NaturalLanguage==8.5\n",
      "  Downloading pyobjc_framework_NaturalLanguage-8.5-py2.py3-none-any.whl (4.4 kB)\n",
      "Collecting pyobjc-framework-LaunchServices==8.5\n",
      "  Downloading pyobjc_framework_LaunchServices-8.5-py2.py3-none-any.whl (3.4 kB)\n",
      "Collecting pyobjc-framework-PhotosUI==8.5\n",
      "  Downloading pyobjc_framework_PhotosUI-8.5-cp36-abi3-macosx_10_9_x86_64.whl (7.8 kB)\n",
      "Collecting pyobjc-framework-ServiceManagement==8.5\n",
      "  Downloading pyobjc_framework_ServiceManagement-8.5-py2.py3-none-any.whl (4.5 kB)\n",
      "Collecting pyobjc-framework-DiscRecordingUI==8.5\n",
      "  Downloading pyobjc_framework_DiscRecordingUI-8.5-py2.py3-none-any.whl (4.2 kB)\n",
      "Collecting pyobjc-framework-Contacts==8.5\n",
      "  Downloading pyobjc_framework_Contacts-8.5-cp36-abi3-macosx_10_9_x86_64.whl (9.1 kB)\n",
      "Collecting pyobjc-framework-NotificationCenter==8.5\n",
      "  Downloading pyobjc_framework_NotificationCenter-8.5-cp36-abi3-macosx_10_9_x86_64.whl (7.2 kB)\n",
      "Collecting pyobjc-framework-ImageCaptureCore==8.5\n",
      "  Downloading pyobjc_framework_ImageCaptureCore-8.5-cp36-abi3-macosx_10_9_x86_64.whl (12 kB)\n",
      "Collecting pyobjc-framework-CoreAudioKit==8.5\n",
      "  Downloading pyobjc_framework_CoreAudioKit-8.5-cp36-abi3-macosx_10_9_x86_64.whl (5.4 kB)\n"
     ]
    },
    {
     "name": "stdout",
     "output_type": "stream",
     "text": [
      "Collecting pyobjc-framework-WebKit==8.5\n",
      "  Downloading pyobjc_framework_WebKit-8.5-cp36-abi3-macosx_10_9_x86_64.whl (29 kB)\n",
      "Collecting pyobjc-framework-MediaLibrary==8.5\n",
      "  Downloading pyobjc_framework_MediaLibrary-8.5-py2.py3-none-any.whl (3.8 kB)\n",
      "Collecting pyobjc-framework-Network==8.5\n",
      "  Downloading pyobjc_framework_Network-8.5-cp36-abi3-macosx_10_9_x86_64.whl (14 kB)\n",
      "Collecting pyobjc-framework-CoreWLAN==8.5\n",
      "  Downloading pyobjc_framework_CoreWLAN-8.5-cp36-abi3-macosx_10_9_x86_64.whl (8.1 kB)\n",
      "Collecting pyobjc-framework-CoreAudio==8.5\n",
      "  Downloading pyobjc_framework_CoreAudio-8.5-cp38-cp38-macosx_10_9_x86_64.whl (24 kB)\n",
      "Collecting pyobjc-framework-AddressBook==8.5\n",
      "  Downloading pyobjc_framework_AddressBook-8.5-cp36-abi3-macosx_10_9_x86_64.whl (10 kB)\n",
      "Collecting pyobjc-framework-InstallerPlugins==8.5\n",
      "  Downloading pyobjc_framework_InstallerPlugins-8.5-py2.py3-none-any.whl (4.3 kB)\n",
      "Collecting pyobjc-framework-AdSupport==8.5\n",
      "  Downloading pyobjc_framework_AdSupport-8.5-py2.py3-none-any.whl (2.9 kB)\n",
      "Collecting pyobjc-framework-libdispatch==8.5\n",
      "  Downloading pyobjc_framework_libdispatch-8.5-cp38-cp38-macosx_10_9_x86_64.whl (12 kB)\n",
      "Collecting pyobjc-framework-MapKit==8.5\n",
      "  Downloading pyobjc_framework_MapKit-8.5-cp36-abi3-macosx_10_9_x86_64.whl (14 kB)\n",
      "Collecting pyobjc-framework-MetalPerformanceShaders==8.5\n",
      "  Downloading pyobjc_framework_MetalPerformanceShaders-8.5-cp36-abi3-macosx_10_9_x86_64.whl (19 kB)\n",
      "Collecting pyobjc-framework-Vision==8.5\n",
      "  Downloading pyobjc_framework_Vision-8.5-cp36-abi3-macosx_10_9_x86_64.whl (9.9 kB)\n",
      "Collecting pyobjc-framework-AudioVideoBridging==8.5\n",
      "  Downloading pyobjc_framework_AudioVideoBridging-8.5-py2.py3-none-any.whl (6.3 kB)\n",
      "Collecting pyobjc-framework-CoreServices==8.5\n",
      "  Downloading pyobjc_framework_CoreServices-8.5-cp36-abi3-macosx_10_9_x86_64.whl (27 kB)\n",
      "Collecting pyobjc-framework-SystemConfiguration==8.5\n",
      "  Downloading pyobjc_framework_SystemConfiguration-8.5-cp36-abi3-macosx_10_9_x86_64.whl (16 kB)\n",
      "Collecting pyobjc-framework-AppleScriptKit==8.5\n",
      "  Downloading pyobjc_framework_AppleScriptKit-8.5-py2.py3-none-any.whl (3.8 kB)\n",
      "Collecting pyobjc-framework-CoreMIDI==8.5\n",
      "  Downloading pyobjc_framework_CoreMIDI-8.5-cp36-abi3-macosx_10_9_x86_64.whl (12 kB)\n",
      "Collecting pyobjc-framework-GameplayKit==8.5\n",
      "  Downloading pyobjc_framework_GameplayKit-8.5-cp36-abi3-macosx_10_9_x86_64.whl (8.4 kB)\n",
      "Collecting pyobjc-framework-Intents==8.5\n",
      "  Downloading pyobjc_framework_Intents-8.5-cp36-abi3-macosx_10_9_x86_64.whl (21 kB)\n",
      "Collecting pyobjc-framework-Photos==8.5\n",
      "  Downloading pyobjc_framework_Photos-8.5-cp36-abi3-macosx_10_9_x86_64.whl (9.2 kB)\n",
      "Collecting pyobjc-core==8.5\n",
      "  Downloading pyobjc_core-8.5-cp38-cp38-macosx_10_9_x86_64.whl (319 kB)\n",
      "\u001b[K     |████████████████████████████████| 319 kB 20.5 MB/s eta 0:00:01\n",
      "\u001b[?25hCollecting pyobjc-framework-OpenDirectory==8.5\n",
      "  Downloading pyobjc_framework_OpenDirectory-8.5-py2.py3-none-any.whl (11 kB)\n",
      "Collecting pyobjc-framework-MediaPlayer==8.5\n",
      "  Downloading pyobjc_framework_MediaPlayer-8.5-py2.py3-none-any.whl (6.0 kB)\n",
      "Collecting pyobjc-framework-Automator==8.5\n",
      "  Downloading pyobjc_framework_Automator-8.5-py2.py3-none-any.whl (5.0 kB)\n",
      "Collecting pyobjc-framework-CoreData==8.5\n",
      "  Downloading pyobjc_framework_CoreData-8.5-cp36-abi3-macosx_10_9_x86_64.whl (13 kB)\n",
      "Collecting pyobjc-framework-Security==8.5\n",
      "  Downloading pyobjc_framework_Security-8.5-cp38-cp38-macosx_10_9_x86_64.whl (32 kB)\n",
      "Collecting pyobjc-framework-UserNotifications==8.5\n",
      "  Downloading pyobjc_framework_UserNotifications-8.5-cp36-abi3-macosx_10_9_x86_64.whl (7.3 kB)\n",
      "Collecting pyobjc-framework-SearchKit==8.5\n",
      "  Downloading pyobjc_framework_SearchKit-8.5-py2.py3-none-any.whl (3.3 kB)\n",
      "Collecting pyobjc-framework-AVFoundation==8.5\n",
      "  Downloading pyobjc_framework_AVFoundation-8.5-cp36-abi3-macosx_10_9_x86_64.whl (45 kB)\n",
      "\u001b[K     |████████████████████████████████| 45 kB 8.1 MB/s  eta 0:00:01\n",
      "\u001b[?25hCollecting pyobjc-framework-GameCenter==8.5\n",
      "  Downloading pyobjc_framework_GameCenter-8.5-cp36-abi3-macosx_10_9_x86_64.whl (12 kB)\n",
      "Collecting pyobjc-framework-CoreText==8.5\n",
      "  Downloading pyobjc_framework_CoreText-8.5-cp38-cp38-macosx_10_9_x86_64.whl (24 kB)\n",
      "Collecting pyobjc-framework-SecurityFoundation==8.5\n",
      "  Downloading pyobjc_framework_SecurityFoundation-8.5-py2.py3-none-any.whl (3.3 kB)\n",
      "Collecting pyobjc-framework-CalendarStore==8.5\n",
      "  Downloading pyobjc_framework_CalendarStore-8.5-py2.py3-none-any.whl (4.6 kB)\n",
      "Collecting pyobjc-framework-ScriptingBridge==8.5\n",
      "  Downloading pyobjc_framework_ScriptingBridge-8.5-cp36-abi3-macosx_10_9_x86_64.whl (6.6 kB)\n",
      "Collecting pyobjc-framework-Metal==8.5\n",
      "  Downloading pyobjc_framework_Metal-8.5-cp36-abi3-macosx_10_9_x86_64.whl (32 kB)\n",
      "Collecting pyobjc-framework-VideoSubscriberAccount==8.5\n",
      "  Downloading pyobjc_framework_VideoSubscriberAccount-8.5-py2.py3-none-any.whl (3.8 kB)\n",
      "Collecting pyobjc-framework-DiscRecording==8.5\n",
      "  Downloading pyobjc_framework_DiscRecording-8.5-cp36-abi3-macosx_10_9_x86_64.whl (12 kB)\n",
      "Collecting pyobjc-framework-InputMethodKit==8.5\n",
      "  Downloading pyobjc_framework_InputMethodKit-8.5-cp36-abi3-macosx_10_9_x86_64.whl (7.4 kB)\n",
      "Collecting pyobjc-framework-DVDPlayback==8.5\n",
      "  Downloading pyobjc_framework_DVDPlayback-8.5-py2.py3-none-any.whl (7.8 kB)\n",
      "Collecting pyobjc-framework-VideoToolbox==8.5\n",
      "  Downloading pyobjc_framework_VideoToolbox-8.5-cp36-abi3-macosx_10_9_x86_64.whl (9.5 kB)\n",
      "Installing collected packages: pyobjc-core, pyobjc-framework-Cocoa, pyobjc-framework-Quartz, pyobjc-framework-FSEvents, pyobjc-framework-CoreMedia, pyobjc-framework-CoreAudio, pyobjc-framework-SpriteKit, pyobjc-framework-Security, pyobjc-framework-Metal, pyobjc-framework-DiscRecording, pyobjc-framework-CoreServices, pyobjc-framework-CoreML, pyobjc-framework-CoreLocation, pyobjc-framework-CoreData, pyobjc-framework-Contacts, pyobjc-framework-AVFoundation, pyobjc-framework-Accounts, pyobjc-framework-WebKit, pyobjc-framework-Vision, pyobjc-framework-VideoToolbox, pyobjc-framework-VideoSubscriberAccount, pyobjc-framework-UserNotifications, pyobjc-framework-SystemConfiguration, pyobjc-framework-SyncServices, pyobjc-framework-StoreKit, pyobjc-framework-Social, pyobjc-framework-ServiceManagement, pyobjc-framework-SecurityInterface, pyobjc-framework-SecurityFoundation, pyobjc-framework-SearchKit, pyobjc-framework-ScriptingBridge, pyobjc-framework-ScreenSaver, pyobjc-framework-SceneKit, pyobjc-framework-SafariServices, pyobjc-framework-PreferencePanes, pyobjc-framework-PhotosUI, pyobjc-framework-Photos, pyobjc-framework-OSAKit, pyobjc-framework-OpenDirectory, pyobjc-framework-NotificationCenter, pyobjc-framework-NetworkExtension, pyobjc-framework-Network, pyobjc-framework-NetFS, pyobjc-framework-NaturalLanguage, pyobjc-framework-MultipeerConnectivity, pyobjc-framework-ModelIO, pyobjc-framework-MetalPerformanceShaders, pyobjc-framework-MetalKit, pyobjc-framework-MediaToolbox, pyobjc-framework-MediaPlayer, pyobjc-framework-MediaLibrary, pyobjc-framework-MediaAccessibility, pyobjc-framework-MapKit, pyobjc-framework-LocalAuthentication, pyobjc-framework-libdispatch, pyobjc-framework-LaunchServices, pyobjc-framework-LatentSemanticMapping, pyobjc-framework-iTunesLibrary, pyobjc-framework-IOSurface, pyobjc-framework-Intents, pyobjc-framework-InstantMessage, pyobjc-framework-InstallerPlugins, pyobjc-framework-InputMethodKit, pyobjc-framework-IMServicePlugIn, pyobjc-framework-ImageCaptureCore, pyobjc-framework-GameplayKit, pyobjc-framework-GameKit, pyobjc-framework-GameController, pyobjc-framework-GameCenter, pyobjc-framework-FinderSync, pyobjc-framework-ExternalAccessory, pyobjc-framework-ExceptionHandling, pyobjc-framework-EventKit, pyobjc-framework-DVDPlayback, pyobjc-framework-DiskArbitration, pyobjc-framework-DiscRecordingUI, pyobjc-framework-DictionaryServices, pyobjc-framework-CryptoTokenKit, pyobjc-framework-CoreWLAN, pyobjc-framework-CoreText, pyobjc-framework-CoreSpotlight, pyobjc-framework-CoreMIDI, pyobjc-framework-CoreMediaIO, pyobjc-framework-CoreBluetooth, pyobjc-framework-CoreAudioKit, pyobjc-framework-ContactsUI, pyobjc-framework-ColorSync, pyobjc-framework-Collaboration, pyobjc-framework-CloudKit, pyobjc-framework-CFNetwork, pyobjc-framework-CalendarStore, pyobjc-framework-BusinessChat, pyobjc-framework-AVKit, pyobjc-framework-Automator, pyobjc-framework-AudioVideoBridging, pyobjc-framework-ApplicationServices, pyobjc-framework-AppleScriptObjC, pyobjc-framework-AppleScriptKit, pyobjc-framework-AdSupport, pyobjc-framework-AddressBook, pyobjc, pyttsx3\n"
     ]
    },
    {
     "name": "stdout",
     "output_type": "stream",
     "text": [
      "Successfully installed pyobjc-8.5 pyobjc-core-8.5 pyobjc-framework-AVFoundation-8.5 pyobjc-framework-AVKit-8.5 pyobjc-framework-Accounts-8.5 pyobjc-framework-AdSupport-8.5 pyobjc-framework-AddressBook-8.5 pyobjc-framework-AppleScriptKit-8.5 pyobjc-framework-AppleScriptObjC-8.5 pyobjc-framework-ApplicationServices-8.5 pyobjc-framework-AudioVideoBridging-8.5 pyobjc-framework-Automator-8.5 pyobjc-framework-BusinessChat-8.5 pyobjc-framework-CFNetwork-8.5 pyobjc-framework-CalendarStore-8.5 pyobjc-framework-CloudKit-8.5 pyobjc-framework-Cocoa-8.5 pyobjc-framework-Collaboration-8.5 pyobjc-framework-ColorSync-8.5 pyobjc-framework-Contacts-8.5 pyobjc-framework-ContactsUI-8.5 pyobjc-framework-CoreAudio-8.5 pyobjc-framework-CoreAudioKit-8.5 pyobjc-framework-CoreBluetooth-8.5 pyobjc-framework-CoreData-8.5 pyobjc-framework-CoreLocation-8.5 pyobjc-framework-CoreMIDI-8.5 pyobjc-framework-CoreML-8.5 pyobjc-framework-CoreMedia-8.5 pyobjc-framework-CoreMediaIO-8.5 pyobjc-framework-CoreServices-8.5 pyobjc-framework-CoreSpotlight-8.5 pyobjc-framework-CoreText-8.5 pyobjc-framework-CoreWLAN-8.5 pyobjc-framework-CryptoTokenKit-8.5 pyobjc-framework-DVDPlayback-8.5 pyobjc-framework-DictionaryServices-8.5 pyobjc-framework-DiscRecording-8.5 pyobjc-framework-DiscRecordingUI-8.5 pyobjc-framework-DiskArbitration-8.5 pyobjc-framework-EventKit-8.5 pyobjc-framework-ExceptionHandling-8.5 pyobjc-framework-ExternalAccessory-8.5 pyobjc-framework-FSEvents-8.5 pyobjc-framework-FinderSync-8.5 pyobjc-framework-GameCenter-8.5 pyobjc-framework-GameController-8.5 pyobjc-framework-GameKit-8.5 pyobjc-framework-GameplayKit-8.5 pyobjc-framework-IMServicePlugIn-8.5 pyobjc-framework-IOSurface-8.5 pyobjc-framework-ImageCaptureCore-8.5 pyobjc-framework-InputMethodKit-8.5 pyobjc-framework-InstallerPlugins-8.5 pyobjc-framework-InstantMessage-8.5 pyobjc-framework-Intents-8.5 pyobjc-framework-LatentSemanticMapping-8.5 pyobjc-framework-LaunchServices-8.5 pyobjc-framework-LocalAuthentication-8.5 pyobjc-framework-MapKit-8.5 pyobjc-framework-MediaAccessibility-8.5 pyobjc-framework-MediaLibrary-8.5 pyobjc-framework-MediaPlayer-8.5 pyobjc-framework-MediaToolbox-8.5 pyobjc-framework-Metal-8.5 pyobjc-framework-MetalKit-8.5 pyobjc-framework-MetalPerformanceShaders-8.5 pyobjc-framework-ModelIO-8.5 pyobjc-framework-MultipeerConnectivity-8.5 pyobjc-framework-NaturalLanguage-8.5 pyobjc-framework-NetFS-8.5 pyobjc-framework-Network-8.5 pyobjc-framework-NetworkExtension-8.5 pyobjc-framework-NotificationCenter-8.5 pyobjc-framework-OSAKit-8.5 pyobjc-framework-OpenDirectory-8.5 pyobjc-framework-Photos-8.5 pyobjc-framework-PhotosUI-8.5 pyobjc-framework-PreferencePanes-8.5 pyobjc-framework-Quartz-8.5 pyobjc-framework-SafariServices-8.5 pyobjc-framework-SceneKit-8.5 pyobjc-framework-ScreenSaver-8.5 pyobjc-framework-ScriptingBridge-8.5 pyobjc-framework-SearchKit-8.5 pyobjc-framework-Security-8.5 pyobjc-framework-SecurityFoundation-8.5 pyobjc-framework-SecurityInterface-8.5 pyobjc-framework-ServiceManagement-8.5 pyobjc-framework-Social-8.5 pyobjc-framework-SpriteKit-8.5 pyobjc-framework-StoreKit-8.5 pyobjc-framework-SyncServices-8.5 pyobjc-framework-SystemConfiguration-8.5 pyobjc-framework-UserNotifications-8.5 pyobjc-framework-VideoSubscriberAccount-8.5 pyobjc-framework-VideoToolbox-8.5 pyobjc-framework-Vision-8.5 pyobjc-framework-WebKit-8.5 pyobjc-framework-iTunesLibrary-8.5 pyobjc-framework-libdispatch-8.5 pyttsx3-2.90\n",
      "\u001b[33mWARNING: You are using pip version 21.0.1; however, version 22.1.2 is available.\n",
      "You should consider upgrading via the '/Library/Frameworks/Python.framework/Versions/3.8/bin/python3 -m pip install --upgrade pip' command.\u001b[0m\n",
      "Note: you may need to restart the kernel to use updated packages.\n"
     ]
    }
   ],
   "source": [
    "pip install pyttsx3"
   ]
  },
  {
   "cell_type": "code",
   "execution_count": null,
   "id": "significant-athens",
   "metadata": {},
   "outputs": [],
   "source": []
  },
  {
   "cell_type": "code",
   "execution_count": null,
   "id": "canadian-commons",
   "metadata": {},
   "outputs": [],
   "source": []
  },
  {
   "cell_type": "code",
   "execution_count": null,
   "id": "appropriate-dispatch",
   "metadata": {},
   "outputs": [],
   "source": []
  },
  {
   "cell_type": "code",
   "execution_count": null,
   "id": "congressional-asthma",
   "metadata": {},
   "outputs": [],
   "source": []
  }
 ],
 "metadata": {
  "kernelspec": {
   "display_name": "Python 3",
   "language": "python",
   "name": "python3"
  },
  "language_info": {
   "codemirror_mode": {
    "name": "ipython",
    "version": 3
   },
   "file_extension": ".py",
   "mimetype": "text/x-python",
   "name": "python",
   "nbconvert_exporter": "python",
   "pygments_lexer": "ipython3",
   "version": "3.8.5"
  }
 },
 "nbformat": 4,
 "nbformat_minor": 5
}
