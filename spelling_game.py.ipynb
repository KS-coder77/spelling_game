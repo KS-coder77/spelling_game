{
 "cells": [
  {
   "cell_type": "code",
   "execution_count": 1,
   "id": "olympic-heritage",
   "metadata": {},
   "outputs": [
    {
     "name": "stdout",
     "output_type": "stream",
     "text": [
      "<_io.TextIOWrapper name='/Users/krupasarna/Documents/y2words.csv' mode='r' encoding='UTF-8'>\n"
     ]
    }
   ],
   "source": [
    "#create file handle \n",
    "\n",
    "fhand=open('/Users/krupasarna/Documents/y2words.csv')\n",
    "\n",
    "print(fhand)"
   ]
  },
  {
   "cell_type": "code",
   "execution_count": 10,
   "id": "incomplete-signal",
   "metadata": {},
   "outputs": [
    {
     "name": "stdout",
     "output_type": "stream",
     "text": [
      "['after', 'again', 'any', 'bath', 'beautiful', 'because', 'behind', 'both', 'break', 'busy', 'child', 'children', 'Christmas', 'class', 'climb', 'clothes', 'could', 'cold', 'door', 'even', 'every', 'everybody', 'eye', 'fast', 'father', 'find', 'floor', 'gold', 'grass', 'great', 'half', 'hold', 'hour', 'improve', 'kind', 'last', 'many', 'mind', 'money', 'most', 'move', 'Mr', 'Mrs', 'old', 'only', 'parents', 'pass', 'past', 'path', 'people', 'plant', 'poor', 'pretty', 'prove', 'should', 'steak', 'sugar', 'sure', 'told', 'water', 'whole', 'who', 'wild', 'would']\n",
      "64\n",
      "Mrs\n",
      "63\n"
     ]
    }
   ],
   "source": [
    "#read file and put each word into a list and produce a word at random \n",
    "\n",
    "\n",
    "spelling_words='/Users/krupasarna/Documents/y2words.csv'\n",
    "word_list = []\n",
    "import random \n",
    "\n",
    "with open(spelling_words,'r') as f:\n",
    "    word_list = f.read().split()\n",
    "    \n",
    "#print(word_list) \n",
    "print(len(word_list))\n",
    "word_to_spell=random.choice(word_list)\n",
    "print(word_to_spell)\n",
    "word_list.remove(word_to_spell)\n",
    "print(len(word_list))\n"
   ]
  },
  {
   "cell_type": "code",
   "execution_count": 305,
   "id": "billion-uruguay",
   "metadata": {},
   "outputs": [
    {
     "data": {
      "text/plain": [
       "32512"
      ]
     },
     "execution_count": 305,
     "metadata": {},
     "output_type": "execute_result"
    }
   ],
   "source": [
    "#text to speech \n",
    "\n",
    "from gtts import gTTS\n",
    "import os \n",
    "\n",
    "spelling_words='/Users/krupasarna/Documents/y2words.csv'\n",
    "word_list = []\n",
    "\n",
    "with open(spelling_words,'r') as f:\n",
    "    word_list = f.read().split()\n",
    "    \n",
    "\n",
    "random_word='Please spell, ' + random.choice(word_list)\n",
    "#print(random_word)\n",
    "\n",
    "myText=random_word\n",
    "language='en'\n",
    "\n",
    "output=gTTS(text=myText,lang=language, slow=False)\n",
    "\n",
    "output.save('output.mp3')\n",
    "\n",
    "os.system('start output.mp3')\n"
   ]
  },
  {
   "cell_type": "code",
   "execution_count": 326,
   "id": "noticed-mirror",
   "metadata": {},
   "outputs": [
    {
     "name": "stdout",
     "output_type": "stream",
     "text": [
      "Defaulting to user installation because normal site-packages is not writeable\n",
      "Requirement already satisfied: playsound in /Users/krupasarna/Library/Python/3.8/lib/python/site-packages (1.2.2)\n",
      "\u001b[33mWARNING: You are using pip version 21.0.1; however, version 22.1.2 is available.\n",
      "You should consider upgrading via the '/Library/Frameworks/Python.framework/Versions/3.8/bin/python3 -m pip install --upgrade pip' command.\u001b[0m\n",
      "Note: you may need to restart the kernel to use updated packages.\n"
     ]
    }
   ],
   "source": [
    "pip install playsound"
   ]
  },
  {
   "cell_type": "code",
   "execution_count": 1,
   "id": "minor-jersey",
   "metadata": {},
   "outputs": [
    {
     "name": "stdout",
     "output_type": "stream",
     "text": [
      "pygame 2.0.0.dev12 (SDL 2.0.12, python 3.8.5)\n",
      "Hello from the pygame community. https://www.pygame.org/contribute.html\n"
     ]
    },
    {
     "data": {
      "text/html": [
       "        <script type=\"text/javascript\">\n",
       "        window.PlotlyConfig = {MathJaxConfig: 'local'};\n",
       "        if (window.MathJax) {MathJax.Hub.Config({SVG: {font: \"STIX-Web\"}});}\n",
       "        if (typeof require !== 'undefined') {\n",
       "        require.undef(\"plotly\");\n",
       "        requirejs.config({\n",
       "            paths: {\n",
       "                'plotly': ['https://cdn.plot.ly/plotly-latest.min']\n",
       "            }\n",
       "        });\n",
       "        require(['plotly'], function(Plotly) {\n",
       "            window._Plotly = Plotly;\n",
       "        });\n",
       "        }\n",
       "        </script>\n",
       "        "
      ]
     },
     "metadata": {},
     "output_type": "display_data"
    },
    {
     "name": "stdout",
     "output_type": "stream",
     "text": [
      "this is round number, 1\n",
      "this is question number, 1\n",
      "63 words left.\n",
      "This is question number, 2\n",
      "62 words left.\n",
      "This is question number, 3\n",
      "61 words left.\n",
      "This is question number, 4\n",
      "60 words left.\n",
      "This is question number, 5\n",
      "59 words left.\n",
      "this is round number, 2\n",
      "this is question number, 1\n",
      "63 words left.\n",
      "This is question number, 2\n",
      "62 words left.\n",
      "This is question number, 3\n",
      "61 words left.\n",
      "This is question number, 4\n",
      "60 words left.\n",
      "This is question number, 5\n",
      "59 words left.\n",
      "any\n",
      "[1, 2] [5, 4]\n"
     ]
    },
    {
     "data": {
      "application/vnd.plotly.v1+json": {
       "config": {
        "linkText": "Export to plotly.com",
        "plotlyServerURL": "https://plotly.com",
        "showLink": false
       },
       "data": [
        {
         "text": [
          "5",
          "4"
         ],
         "textposition": "inside",
         "type": "bar",
         "x": [
          1,
          2
         ],
         "y": [
          5,
          4
         ]
        }
       ],
       "layout": {
        "template": {
         "data": {
          "bar": [
           {
            "error_x": {
             "color": "#2a3f5f"
            },
            "error_y": {
             "color": "#2a3f5f"
            },
            "marker": {
             "line": {
              "color": "#E5ECF6",
              "width": 0.5
             }
            },
            "type": "bar"
           }
          ],
          "barpolar": [
           {
            "marker": {
             "line": {
              "color": "#E5ECF6",
              "width": 0.5
             }
            },
            "type": "barpolar"
           }
          ],
          "carpet": [
           {
            "aaxis": {
             "endlinecolor": "#2a3f5f",
             "gridcolor": "white",
             "linecolor": "white",
             "minorgridcolor": "white",
             "startlinecolor": "#2a3f5f"
            },
            "baxis": {
             "endlinecolor": "#2a3f5f",
             "gridcolor": "white",
             "linecolor": "white",
             "minorgridcolor": "white",
             "startlinecolor": "#2a3f5f"
            },
            "type": "carpet"
           }
          ],
          "choropleth": [
           {
            "colorbar": {
             "outlinewidth": 0,
             "ticks": ""
            },
            "type": "choropleth"
           }
          ],
          "contour": [
           {
            "colorbar": {
             "outlinewidth": 0,
             "ticks": ""
            },
            "colorscale": [
             [
              0,
              "#0d0887"
             ],
             [
              0.1111111111111111,
              "#46039f"
             ],
             [
              0.2222222222222222,
              "#7201a8"
             ],
             [
              0.3333333333333333,
              "#9c179e"
             ],
             [
              0.4444444444444444,
              "#bd3786"
             ],
             [
              0.5555555555555556,
              "#d8576b"
             ],
             [
              0.6666666666666666,
              "#ed7953"
             ],
             [
              0.7777777777777778,
              "#fb9f3a"
             ],
             [
              0.8888888888888888,
              "#fdca26"
             ],
             [
              1,
              "#f0f921"
             ]
            ],
            "type": "contour"
           }
          ],
          "contourcarpet": [
           {
            "colorbar": {
             "outlinewidth": 0,
             "ticks": ""
            },
            "type": "contourcarpet"
           }
          ],
          "heatmap": [
           {
            "colorbar": {
             "outlinewidth": 0,
             "ticks": ""
            },
            "colorscale": [
             [
              0,
              "#0d0887"
             ],
             [
              0.1111111111111111,
              "#46039f"
             ],
             [
              0.2222222222222222,
              "#7201a8"
             ],
             [
              0.3333333333333333,
              "#9c179e"
             ],
             [
              0.4444444444444444,
              "#bd3786"
             ],
             [
              0.5555555555555556,
              "#d8576b"
             ],
             [
              0.6666666666666666,
              "#ed7953"
             ],
             [
              0.7777777777777778,
              "#fb9f3a"
             ],
             [
              0.8888888888888888,
              "#fdca26"
             ],
             [
              1,
              "#f0f921"
             ]
            ],
            "type": "heatmap"
           }
          ],
          "heatmapgl": [
           {
            "colorbar": {
             "outlinewidth": 0,
             "ticks": ""
            },
            "colorscale": [
             [
              0,
              "#0d0887"
             ],
             [
              0.1111111111111111,
              "#46039f"
             ],
             [
              0.2222222222222222,
              "#7201a8"
             ],
             [
              0.3333333333333333,
              "#9c179e"
             ],
             [
              0.4444444444444444,
              "#bd3786"
             ],
             [
              0.5555555555555556,
              "#d8576b"
             ],
             [
              0.6666666666666666,
              "#ed7953"
             ],
             [
              0.7777777777777778,
              "#fb9f3a"
             ],
             [
              0.8888888888888888,
              "#fdca26"
             ],
             [
              1,
              "#f0f921"
             ]
            ],
            "type": "heatmapgl"
           }
          ],
          "histogram": [
           {
            "marker": {
             "colorbar": {
              "outlinewidth": 0,
              "ticks": ""
             }
            },
            "type": "histogram"
           }
          ],
          "histogram2d": [
           {
            "colorbar": {
             "outlinewidth": 0,
             "ticks": ""
            },
            "colorscale": [
             [
              0,
              "#0d0887"
             ],
             [
              0.1111111111111111,
              "#46039f"
             ],
             [
              0.2222222222222222,
              "#7201a8"
             ],
             [
              0.3333333333333333,
              "#9c179e"
             ],
             [
              0.4444444444444444,
              "#bd3786"
             ],
             [
              0.5555555555555556,
              "#d8576b"
             ],
             [
              0.6666666666666666,
              "#ed7953"
             ],
             [
              0.7777777777777778,
              "#fb9f3a"
             ],
             [
              0.8888888888888888,
              "#fdca26"
             ],
             [
              1,
              "#f0f921"
             ]
            ],
            "type": "histogram2d"
           }
          ],
          "histogram2dcontour": [
           {
            "colorbar": {
             "outlinewidth": 0,
             "ticks": ""
            },
            "colorscale": [
             [
              0,
              "#0d0887"
             ],
             [
              0.1111111111111111,
              "#46039f"
             ],
             [
              0.2222222222222222,
              "#7201a8"
             ],
             [
              0.3333333333333333,
              "#9c179e"
             ],
             [
              0.4444444444444444,
              "#bd3786"
             ],
             [
              0.5555555555555556,
              "#d8576b"
             ],
             [
              0.6666666666666666,
              "#ed7953"
             ],
             [
              0.7777777777777778,
              "#fb9f3a"
             ],
             [
              0.8888888888888888,
              "#fdca26"
             ],
             [
              1,
              "#f0f921"
             ]
            ],
            "type": "histogram2dcontour"
           }
          ],
          "mesh3d": [
           {
            "colorbar": {
             "outlinewidth": 0,
             "ticks": ""
            },
            "type": "mesh3d"
           }
          ],
          "parcoords": [
           {
            "line": {
             "colorbar": {
              "outlinewidth": 0,
              "ticks": ""
             }
            },
            "type": "parcoords"
           }
          ],
          "pie": [
           {
            "automargin": true,
            "type": "pie"
           }
          ],
          "scatter": [
           {
            "marker": {
             "colorbar": {
              "outlinewidth": 0,
              "ticks": ""
             }
            },
            "type": "scatter"
           }
          ],
          "scatter3d": [
           {
            "line": {
             "colorbar": {
              "outlinewidth": 0,
              "ticks": ""
             }
            },
            "marker": {
             "colorbar": {
              "outlinewidth": 0,
              "ticks": ""
             }
            },
            "type": "scatter3d"
           }
          ],
          "scattercarpet": [
           {
            "marker": {
             "colorbar": {
              "outlinewidth": 0,
              "ticks": ""
             }
            },
            "type": "scattercarpet"
           }
          ],
          "scattergeo": [
           {
            "marker": {
             "colorbar": {
              "outlinewidth": 0,
              "ticks": ""
             }
            },
            "type": "scattergeo"
           }
          ],
          "scattergl": [
           {
            "marker": {
             "colorbar": {
              "outlinewidth": 0,
              "ticks": ""
             }
            },
            "type": "scattergl"
           }
          ],
          "scattermapbox": [
           {
            "marker": {
             "colorbar": {
              "outlinewidth": 0,
              "ticks": ""
             }
            },
            "type": "scattermapbox"
           }
          ],
          "scatterpolar": [
           {
            "marker": {
             "colorbar": {
              "outlinewidth": 0,
              "ticks": ""
             }
            },
            "type": "scatterpolar"
           }
          ],
          "scatterpolargl": [
           {
            "marker": {
             "colorbar": {
              "outlinewidth": 0,
              "ticks": ""
             }
            },
            "type": "scatterpolargl"
           }
          ],
          "scatterternary": [
           {
            "marker": {
             "colorbar": {
              "outlinewidth": 0,
              "ticks": ""
             }
            },
            "type": "scatterternary"
           }
          ],
          "surface": [
           {
            "colorbar": {
             "outlinewidth": 0,
             "ticks": ""
            },
            "colorscale": [
             [
              0,
              "#0d0887"
             ],
             [
              0.1111111111111111,
              "#46039f"
             ],
             [
              0.2222222222222222,
              "#7201a8"
             ],
             [
              0.3333333333333333,
              "#9c179e"
             ],
             [
              0.4444444444444444,
              "#bd3786"
             ],
             [
              0.5555555555555556,
              "#d8576b"
             ],
             [
              0.6666666666666666,
              "#ed7953"
             ],
             [
              0.7777777777777778,
              "#fb9f3a"
             ],
             [
              0.8888888888888888,
              "#fdca26"
             ],
             [
              1,
              "#f0f921"
             ]
            ],
            "type": "surface"
           }
          ],
          "table": [
           {
            "cells": {
             "fill": {
              "color": "#EBF0F8"
             },
             "line": {
              "color": "white"
             }
            },
            "header": {
             "fill": {
              "color": "#C8D4E3"
             },
             "line": {
              "color": "white"
             }
            },
            "type": "table"
           }
          ]
         },
         "layout": {
          "annotationdefaults": {
           "arrowcolor": "#2a3f5f",
           "arrowhead": 0,
           "arrowwidth": 1
          },
          "autotypenumbers": "strict",
          "coloraxis": {
           "colorbar": {
            "outlinewidth": 0,
            "ticks": ""
           }
          },
          "colorscale": {
           "diverging": [
            [
             0,
             "#8e0152"
            ],
            [
             0.1,
             "#c51b7d"
            ],
            [
             0.2,
             "#de77ae"
            ],
            [
             0.3,
             "#f1b6da"
            ],
            [
             0.4,
             "#fde0ef"
            ],
            [
             0.5,
             "#f7f7f7"
            ],
            [
             0.6,
             "#e6f5d0"
            ],
            [
             0.7,
             "#b8e186"
            ],
            [
             0.8,
             "#7fbc41"
            ],
            [
             0.9,
             "#4d9221"
            ],
            [
             1,
             "#276419"
            ]
           ],
           "sequential": [
            [
             0,
             "#0d0887"
            ],
            [
             0.1111111111111111,
             "#46039f"
            ],
            [
             0.2222222222222222,
             "#7201a8"
            ],
            [
             0.3333333333333333,
             "#9c179e"
            ],
            [
             0.4444444444444444,
             "#bd3786"
            ],
            [
             0.5555555555555556,
             "#d8576b"
            ],
            [
             0.6666666666666666,
             "#ed7953"
            ],
            [
             0.7777777777777778,
             "#fb9f3a"
            ],
            [
             0.8888888888888888,
             "#fdca26"
            ],
            [
             1,
             "#f0f921"
            ]
           ],
           "sequentialminus": [
            [
             0,
             "#0d0887"
            ],
            [
             0.1111111111111111,
             "#46039f"
            ],
            [
             0.2222222222222222,
             "#7201a8"
            ],
            [
             0.3333333333333333,
             "#9c179e"
            ],
            [
             0.4444444444444444,
             "#bd3786"
            ],
            [
             0.5555555555555556,
             "#d8576b"
            ],
            [
             0.6666666666666666,
             "#ed7953"
            ],
            [
             0.7777777777777778,
             "#fb9f3a"
            ],
            [
             0.8888888888888888,
             "#fdca26"
            ],
            [
             1,
             "#f0f921"
            ]
           ]
          },
          "colorway": [
           "#636efa",
           "#EF553B",
           "#00cc96",
           "#ab63fa",
           "#FFA15A",
           "#19d3f3",
           "#FF6692",
           "#B6E880",
           "#FF97FF",
           "#FECB52"
          ],
          "font": {
           "color": "#2a3f5f"
          },
          "geo": {
           "bgcolor": "white",
           "lakecolor": "white",
           "landcolor": "#E5ECF6",
           "showlakes": true,
           "showland": true,
           "subunitcolor": "white"
          },
          "hoverlabel": {
           "align": "left"
          },
          "hovermode": "closest",
          "mapbox": {
           "style": "light"
          },
          "paper_bgcolor": "white",
          "plot_bgcolor": "#E5ECF6",
          "polar": {
           "angularaxis": {
            "gridcolor": "white",
            "linecolor": "white",
            "ticks": ""
           },
           "bgcolor": "#E5ECF6",
           "radialaxis": {
            "gridcolor": "white",
            "linecolor": "white",
            "ticks": ""
           }
          },
          "scene": {
           "xaxis": {
            "backgroundcolor": "#E5ECF6",
            "gridcolor": "white",
            "gridwidth": 2,
            "linecolor": "white",
            "showbackground": true,
            "ticks": "",
            "zerolinecolor": "white"
           },
           "yaxis": {
            "backgroundcolor": "#E5ECF6",
            "gridcolor": "white",
            "gridwidth": 2,
            "linecolor": "white",
            "showbackground": true,
            "ticks": "",
            "zerolinecolor": "white"
           },
           "zaxis": {
            "backgroundcolor": "#E5ECF6",
            "gridcolor": "white",
            "gridwidth": 2,
            "linecolor": "white",
            "showbackground": true,
            "ticks": "",
            "zerolinecolor": "white"
           }
          },
          "shapedefaults": {
           "line": {
            "color": "#2a3f5f"
           }
          },
          "ternary": {
           "aaxis": {
            "gridcolor": "white",
            "linecolor": "white",
            "ticks": ""
           },
           "baxis": {
            "gridcolor": "white",
            "linecolor": "white",
            "ticks": ""
           },
           "bgcolor": "#E5ECF6",
           "caxis": {
            "gridcolor": "white",
            "linecolor": "white",
            "ticks": ""
           }
          },
          "title": {
           "x": 0.05
          },
          "xaxis": {
           "automargin": true,
           "gridcolor": "white",
           "linecolor": "white",
           "ticks": "",
           "title": {
            "standoff": 15
           },
           "zerolinecolor": "white",
           "zerolinewidth": 2
          },
          "yaxis": {
           "automargin": true,
           "gridcolor": "white",
           "linecolor": "white",
           "ticks": "",
           "title": {
            "standoff": 15
           },
           "zerolinecolor": "white",
           "zerolinewidth": 2
          }
         }
        },
        "title": {
         "font": {
          "family": "Arial",
          "size": 16
         },
         "text": "Spelling Score Card"
        },
        "xaxis": {
         "range": [
          0,
          5
         ],
         "title": {
          "text": "Round"
         }
        },
        "yaxis": {
         "range": [
          0,
          5
         ],
         "title": {
          "text": "Score"
         }
        }
       }
      },
      "text/html": [
       "<div>                            <div id=\"40235277-e9f9-400f-95d1-30fadf9d101b\" class=\"plotly-graph-div\" style=\"height:525px; width:100%;\"></div>            <script type=\"text/javascript\">                require([\"plotly\"], function(Plotly) {                    window.PLOTLYENV=window.PLOTLYENV || {};                                    if (document.getElementById(\"40235277-e9f9-400f-95d1-30fadf9d101b\")) {                    Plotly.newPlot(                        \"40235277-e9f9-400f-95d1-30fadf9d101b\",                        [{\"text\": [\"5\", \"4\"], \"textposition\": \"inside\", \"type\": \"bar\", \"x\": [1, 2], \"y\": [5, 4]}],                        {\"template\": {\"data\": {\"bar\": [{\"error_x\": {\"color\": \"#2a3f5f\"}, \"error_y\": {\"color\": \"#2a3f5f\"}, \"marker\": {\"line\": {\"color\": \"#E5ECF6\", \"width\": 0.5}}, \"type\": \"bar\"}], \"barpolar\": [{\"marker\": {\"line\": {\"color\": \"#E5ECF6\", \"width\": 0.5}}, \"type\": \"barpolar\"}], \"carpet\": [{\"aaxis\": {\"endlinecolor\": \"#2a3f5f\", \"gridcolor\": \"white\", \"linecolor\": \"white\", \"minorgridcolor\": \"white\", \"startlinecolor\": \"#2a3f5f\"}, \"baxis\": {\"endlinecolor\": \"#2a3f5f\", \"gridcolor\": \"white\", \"linecolor\": \"white\", \"minorgridcolor\": \"white\", \"startlinecolor\": \"#2a3f5f\"}, \"type\": \"carpet\"}], \"choropleth\": [{\"colorbar\": {\"outlinewidth\": 0, \"ticks\": \"\"}, \"type\": \"choropleth\"}], \"contour\": [{\"colorbar\": {\"outlinewidth\": 0, \"ticks\": \"\"}, \"colorscale\": [[0.0, \"#0d0887\"], [0.1111111111111111, \"#46039f\"], [0.2222222222222222, \"#7201a8\"], [0.3333333333333333, \"#9c179e\"], [0.4444444444444444, \"#bd3786\"], [0.5555555555555556, \"#d8576b\"], [0.6666666666666666, \"#ed7953\"], [0.7777777777777778, \"#fb9f3a\"], [0.8888888888888888, \"#fdca26\"], [1.0, \"#f0f921\"]], \"type\": \"contour\"}], \"contourcarpet\": [{\"colorbar\": {\"outlinewidth\": 0, \"ticks\": \"\"}, \"type\": \"contourcarpet\"}], \"heatmap\": [{\"colorbar\": {\"outlinewidth\": 0, \"ticks\": \"\"}, \"colorscale\": [[0.0, \"#0d0887\"], [0.1111111111111111, \"#46039f\"], [0.2222222222222222, \"#7201a8\"], [0.3333333333333333, \"#9c179e\"], [0.4444444444444444, \"#bd3786\"], [0.5555555555555556, \"#d8576b\"], [0.6666666666666666, \"#ed7953\"], [0.7777777777777778, \"#fb9f3a\"], [0.8888888888888888, \"#fdca26\"], [1.0, \"#f0f921\"]], \"type\": \"heatmap\"}], \"heatmapgl\": [{\"colorbar\": {\"outlinewidth\": 0, \"ticks\": \"\"}, \"colorscale\": [[0.0, \"#0d0887\"], [0.1111111111111111, \"#46039f\"], [0.2222222222222222, \"#7201a8\"], [0.3333333333333333, \"#9c179e\"], [0.4444444444444444, \"#bd3786\"], [0.5555555555555556, \"#d8576b\"], [0.6666666666666666, \"#ed7953\"], [0.7777777777777778, \"#fb9f3a\"], [0.8888888888888888, \"#fdca26\"], [1.0, \"#f0f921\"]], \"type\": \"heatmapgl\"}], \"histogram\": [{\"marker\": {\"colorbar\": {\"outlinewidth\": 0, \"ticks\": \"\"}}, \"type\": \"histogram\"}], \"histogram2d\": [{\"colorbar\": {\"outlinewidth\": 0, \"ticks\": \"\"}, \"colorscale\": [[0.0, \"#0d0887\"], [0.1111111111111111, \"#46039f\"], [0.2222222222222222, \"#7201a8\"], [0.3333333333333333, \"#9c179e\"], [0.4444444444444444, \"#bd3786\"], [0.5555555555555556, \"#d8576b\"], [0.6666666666666666, \"#ed7953\"], [0.7777777777777778, \"#fb9f3a\"], [0.8888888888888888, \"#fdca26\"], [1.0, \"#f0f921\"]], \"type\": \"histogram2d\"}], \"histogram2dcontour\": [{\"colorbar\": {\"outlinewidth\": 0, \"ticks\": \"\"}, \"colorscale\": [[0.0, \"#0d0887\"], [0.1111111111111111, \"#46039f\"], [0.2222222222222222, \"#7201a8\"], [0.3333333333333333, \"#9c179e\"], [0.4444444444444444, \"#bd3786\"], [0.5555555555555556, \"#d8576b\"], [0.6666666666666666, \"#ed7953\"], [0.7777777777777778, \"#fb9f3a\"], [0.8888888888888888, \"#fdca26\"], [1.0, \"#f0f921\"]], \"type\": \"histogram2dcontour\"}], \"mesh3d\": [{\"colorbar\": {\"outlinewidth\": 0, \"ticks\": \"\"}, \"type\": \"mesh3d\"}], \"parcoords\": [{\"line\": {\"colorbar\": {\"outlinewidth\": 0, \"ticks\": \"\"}}, \"type\": \"parcoords\"}], \"pie\": [{\"automargin\": true, \"type\": \"pie\"}], \"scatter\": [{\"marker\": {\"colorbar\": {\"outlinewidth\": 0, \"ticks\": \"\"}}, \"type\": \"scatter\"}], \"scatter3d\": [{\"line\": {\"colorbar\": {\"outlinewidth\": 0, \"ticks\": \"\"}}, \"marker\": {\"colorbar\": {\"outlinewidth\": 0, \"ticks\": \"\"}}, \"type\": \"scatter3d\"}], \"scattercarpet\": [{\"marker\": {\"colorbar\": {\"outlinewidth\": 0, \"ticks\": \"\"}}, \"type\": \"scattercarpet\"}], \"scattergeo\": [{\"marker\": {\"colorbar\": {\"outlinewidth\": 0, \"ticks\": \"\"}}, \"type\": \"scattergeo\"}], \"scattergl\": [{\"marker\": {\"colorbar\": {\"outlinewidth\": 0, \"ticks\": \"\"}}, \"type\": \"scattergl\"}], \"scattermapbox\": [{\"marker\": {\"colorbar\": {\"outlinewidth\": 0, \"ticks\": \"\"}}, \"type\": \"scattermapbox\"}], \"scatterpolar\": [{\"marker\": {\"colorbar\": {\"outlinewidth\": 0, \"ticks\": \"\"}}, \"type\": \"scatterpolar\"}], \"scatterpolargl\": [{\"marker\": {\"colorbar\": {\"outlinewidth\": 0, \"ticks\": \"\"}}, \"type\": \"scatterpolargl\"}], \"scatterternary\": [{\"marker\": {\"colorbar\": {\"outlinewidth\": 0, \"ticks\": \"\"}}, \"type\": \"scatterternary\"}], \"surface\": [{\"colorbar\": {\"outlinewidth\": 0, \"ticks\": \"\"}, \"colorscale\": [[0.0, \"#0d0887\"], [0.1111111111111111, \"#46039f\"], [0.2222222222222222, \"#7201a8\"], [0.3333333333333333, \"#9c179e\"], [0.4444444444444444, \"#bd3786\"], [0.5555555555555556, \"#d8576b\"], [0.6666666666666666, \"#ed7953\"], [0.7777777777777778, \"#fb9f3a\"], [0.8888888888888888, \"#fdca26\"], [1.0, \"#f0f921\"]], \"type\": \"surface\"}], \"table\": [{\"cells\": {\"fill\": {\"color\": \"#EBF0F8\"}, \"line\": {\"color\": \"white\"}}, \"header\": {\"fill\": {\"color\": \"#C8D4E3\"}, \"line\": {\"color\": \"white\"}}, \"type\": \"table\"}]}, \"layout\": {\"annotationdefaults\": {\"arrowcolor\": \"#2a3f5f\", \"arrowhead\": 0, \"arrowwidth\": 1}, \"autotypenumbers\": \"strict\", \"coloraxis\": {\"colorbar\": {\"outlinewidth\": 0, \"ticks\": \"\"}}, \"colorscale\": {\"diverging\": [[0, \"#8e0152\"], [0.1, \"#c51b7d\"], [0.2, \"#de77ae\"], [0.3, \"#f1b6da\"], [0.4, \"#fde0ef\"], [0.5, \"#f7f7f7\"], [0.6, \"#e6f5d0\"], [0.7, \"#b8e186\"], [0.8, \"#7fbc41\"], [0.9, \"#4d9221\"], [1, \"#276419\"]], \"sequential\": [[0.0, \"#0d0887\"], [0.1111111111111111, \"#46039f\"], [0.2222222222222222, \"#7201a8\"], [0.3333333333333333, \"#9c179e\"], [0.4444444444444444, \"#bd3786\"], [0.5555555555555556, \"#d8576b\"], [0.6666666666666666, \"#ed7953\"], [0.7777777777777778, \"#fb9f3a\"], [0.8888888888888888, \"#fdca26\"], [1.0, \"#f0f921\"]], \"sequentialminus\": [[0.0, \"#0d0887\"], [0.1111111111111111, \"#46039f\"], [0.2222222222222222, \"#7201a8\"], [0.3333333333333333, \"#9c179e\"], [0.4444444444444444, \"#bd3786\"], [0.5555555555555556, \"#d8576b\"], [0.6666666666666666, \"#ed7953\"], [0.7777777777777778, \"#fb9f3a\"], [0.8888888888888888, \"#fdca26\"], [1.0, \"#f0f921\"]]}, \"colorway\": [\"#636efa\", \"#EF553B\", \"#00cc96\", \"#ab63fa\", \"#FFA15A\", \"#19d3f3\", \"#FF6692\", \"#B6E880\", \"#FF97FF\", \"#FECB52\"], \"font\": {\"color\": \"#2a3f5f\"}, \"geo\": {\"bgcolor\": \"white\", \"lakecolor\": \"white\", \"landcolor\": \"#E5ECF6\", \"showlakes\": true, \"showland\": true, \"subunitcolor\": \"white\"}, \"hoverlabel\": {\"align\": \"left\"}, \"hovermode\": \"closest\", \"mapbox\": {\"style\": \"light\"}, \"paper_bgcolor\": \"white\", \"plot_bgcolor\": \"#E5ECF6\", \"polar\": {\"angularaxis\": {\"gridcolor\": \"white\", \"linecolor\": \"white\", \"ticks\": \"\"}, \"bgcolor\": \"#E5ECF6\", \"radialaxis\": {\"gridcolor\": \"white\", \"linecolor\": \"white\", \"ticks\": \"\"}}, \"scene\": {\"xaxis\": {\"backgroundcolor\": \"#E5ECF6\", \"gridcolor\": \"white\", \"gridwidth\": 2, \"linecolor\": \"white\", \"showbackground\": true, \"ticks\": \"\", \"zerolinecolor\": \"white\"}, \"yaxis\": {\"backgroundcolor\": \"#E5ECF6\", \"gridcolor\": \"white\", \"gridwidth\": 2, \"linecolor\": \"white\", \"showbackground\": true, \"ticks\": \"\", \"zerolinecolor\": \"white\"}, \"zaxis\": {\"backgroundcolor\": \"#E5ECF6\", \"gridcolor\": \"white\", \"gridwidth\": 2, \"linecolor\": \"white\", \"showbackground\": true, \"ticks\": \"\", \"zerolinecolor\": \"white\"}}, \"shapedefaults\": {\"line\": {\"color\": \"#2a3f5f\"}}, \"ternary\": {\"aaxis\": {\"gridcolor\": \"white\", \"linecolor\": \"white\", \"ticks\": \"\"}, \"baxis\": {\"gridcolor\": \"white\", \"linecolor\": \"white\", \"ticks\": \"\"}, \"bgcolor\": \"#E5ECF6\", \"caxis\": {\"gridcolor\": \"white\", \"linecolor\": \"white\", \"ticks\": \"\"}}, \"title\": {\"x\": 0.05}, \"xaxis\": {\"automargin\": true, \"gridcolor\": \"white\", \"linecolor\": \"white\", \"ticks\": \"\", \"title\": {\"standoff\": 15}, \"zerolinecolor\": \"white\", \"zerolinewidth\": 2}, \"yaxis\": {\"automargin\": true, \"gridcolor\": \"white\", \"linecolor\": \"white\", \"ticks\": \"\", \"title\": {\"standoff\": 15}, \"zerolinecolor\": \"white\", \"zerolinewidth\": 2}}}, \"title\": {\"font\": {\"family\": \"Arial\", \"size\": 16}, \"text\": \"Spelling Score Card\"}, \"xaxis\": {\"range\": [0, 5], \"title\": {\"text\": \"Round\"}}, \"yaxis\": {\"range\": [0, 5], \"title\": {\"text\": \"Score\"}}},                        {\"responsive\": true}                    ).then(function(){\n",
       "                            \n",
       "var gd = document.getElementById('40235277-e9f9-400f-95d1-30fadf9d101b');\n",
       "var x = new MutationObserver(function (mutations, observer) {{\n",
       "        var display = window.getComputedStyle(gd).display;\n",
       "        if (!display || display === 'none') {{\n",
       "            console.log([gd, 'removed!']);\n",
       "            Plotly.purge(gd);\n",
       "            observer.disconnect();\n",
       "        }}\n",
       "}});\n",
       "\n",
       "// Listen for the removal of the full notebook cells\n",
       "var notebookContainer = gd.closest('#notebook-container');\n",
       "if (notebookContainer) {{\n",
       "    x.observe(notebookContainer, {childList: true});\n",
       "}}\n",
       "\n",
       "// Listen for the clearing of the current output cell\n",
       "var outputEl = gd.closest('.output');\n",
       "if (outputEl) {{\n",
       "    x.observe(outputEl, {childList: true});\n",
       "}}\n",
       "\n",
       "                        })                };                });            </script>        </div>"
      ]
     },
     "metadata": {},
     "output_type": "display_data"
    }
   ],
   "source": [
    "#build a spelling game \n",
    "\n",
    "#import necessary libraries for GUI, text to speech and audio player\n",
    "\n",
    "import sqlite3\n",
    "\n",
    "from gtts import gTTS\n",
    "import os \n",
    "\n",
    "\n",
    "from pygame import mixer\n",
    "\n",
    "import tkinter as tk\n",
    "from tkinter import * \n",
    "\n",
    "\n",
    "import random \n",
    "\n",
    "import plotly.graph_objs as go \n",
    "import plotly.offline as offline \n",
    "\n",
    "offline.init_notebook_mode(connected=True)\n",
    "\n",
    "\n",
    "database_filepath='spelling_game_Scores.db'\n",
    "\n",
    "if os.path.exists(database_filepath):\n",
    "    os.remove(database_filepath)\n",
    "    \n",
    "conn=sqlite3.connect(database_filepath)\n",
    "cur=conn.cursor()\n",
    "\n",
    "cur.executescript('''\n",
    "\n",
    "CREATE TABLE Scores(Round INTEGER, Score INTEGER);\n",
    "\n",
    "CREATE TABLE Mistakes(id INTEGER, Mistake VARCHAR(200))\n",
    "\n",
    "''')\n",
    "\n",
    "\n",
    "\n",
    "\n",
    "#create a window\n",
    "window=tk.Tk()\n",
    "window.title('Lets practise our spelling!')\n",
    "\n",
    "#state variables \n",
    "start=StringVar()            \n",
    "info=StringVar()\n",
    "Next=StringVar()\n",
    "\n",
    "score=0\n",
    "q_num=0\n",
    "round_num=0\n",
    "\n",
    "#create a function to welcome the user\n",
    "def welcome():\n",
    "    start.set('Play')\n",
    "    info.set(\"Welcome, let's practise some spelling! Press the play button to begin!\")\n",
    "    ent_spell.grid_remove()\n",
    "    submit_btn.grid_remove()\n",
    "    next_btn.grid_remove()\n",
    "    yes_btn.grid_remove()\n",
    "    no_btn.grid_remove()\n",
    "    repeat_btn.grid_remove()\n",
    "\n",
    "\n",
    "#create a fucntion to start the game\n",
    "def start_game():\n",
    "    \n",
    "    global spelling_word\n",
    "    global word_list\n",
    "    global q_num\n",
    "    q_num=q_num+1\n",
    "    global round_num\n",
    "    round_num=round_num+1 \n",
    "    global myText \n",
    "   \n",
    "    \n",
    "    info_label.grid_remove()\n",
    "    start_game_btn.grid_remove()\n",
    "    ent_spell.grid()\n",
    "    submit_btn.grid()\n",
    "    next_btn.grid()\n",
    "    repeat_btn.grid()\n",
    "    Next.set('Next')\n",
    "    next_btn.config(state='disabled')\n",
    "    \n",
    "    \n",
    "    spelling_words='/Users/krupasarna/Documents/y2words.csv'\n",
    "    word_list = []\n",
    "    \n",
    "\n",
    "    with open(spelling_words,'r') as f:\n",
    "        word_list = f.read().split()\n",
    "    \n",
    "    \n",
    "        \n",
    "    spelling_word=random.choice(word_list)\n",
    "    #answer.config(text=spelling_word)\n",
    "    random_word='Please spell, ' + spelling_word\n",
    "    word_list.remove(spelling_word)\n",
    "    \n",
    "    \n",
    "    \n",
    "    myText=random_word\n",
    "    language='en'\n",
    "\n",
    "    output=gTTS(text=myText,lang=language, slow=False)\n",
    "\n",
    "    output.save('/Users/krupasarna/Documents/output.mp3')\n",
    "\n",
    "    mixer.init()\n",
    "    mixer.music.load('/Users/krupasarna/Documents/output.mp3')\n",
    "    mixer.music.play()\n",
    "\n",
    "    print('this is round number, ' + str(round_num))\n",
    "    print('this is question number, ' + str(q_num))\n",
    "    print(str(len(word_list))+' words left.')\n",
    "   \n",
    "\n",
    "    #os.system('/Users/krupasarna/Documents/output.mp3')\n",
    "    \n",
    "    #os.startfile('/Users/krupasarna/Documents/output.mp3')\n",
    "\n",
    "    #answer.config(text=spelling_word)\n",
    "\n",
    "def submit_spelling():\n",
    "    \n",
    "    global spelling_word \n",
    "    global word_list\n",
    "    global score \n",
    "    \n",
    "    \n",
    "    next_btn.config(state='normal')\n",
    "   \n",
    "    correct_answer= spelling_word\n",
    "   \n",
    "\n",
    "    if str(ent_spell.get()) == correct_answer:\n",
    "            answer.config(text='Correct!')\n",
    "            score=score+1\n",
    "            ent_spell.delete(0,END)\n",
    "            ent_spell.config(state='disabled')\n",
    "            submit_btn.config(state='disabled')\n",
    "            repeat_btn.config(state='disabled')\n",
    "            next_btn.config(state='normal')\n",
    "    else:\n",
    "            answer.config(text='Incorrect!')\n",
    "            ent_spell.delete(0,END)\n",
    "            ent_spell.config(state='disabled')\n",
    "            submit_btn.config(state='disabled')\n",
    "            repeat_btn.config(state='disabled')\n",
    "            next_btn.config(state='normal')\n",
    "            \n",
    "            print(spelling_word)\n",
    "            \n",
    "            \n",
    "            cur.execute('''INSERT INTO Mistakes (mistake) values (?)''', (spelling_word,))\n",
    "            \n",
    "def repeat_question():\n",
    "    \n",
    "    global myText\n",
    "    \n",
    "    language='en'\n",
    "\n",
    "    output=gTTS(text=myText,lang=language, slow=False)\n",
    "\n",
    "    output.save('/Users/krupasarna/Documents/output.mp3')\n",
    "\n",
    "    mixer.init()\n",
    "    mixer.music.load('/Users/krupasarna/Documents/output.mp3')\n",
    "    mixer.music.play()\n",
    "    \n",
    "\n",
    "            \n",
    "def next_question():\n",
    "    \n",
    "    global spelling_word\n",
    "    global word_list\n",
    "    global q_num\n",
    "    global myText\n",
    "    \n",
    "    \n",
    "    q_num=q_num+1\n",
    "    print('This is question number, ' + str(q_num))\n",
    "    \n",
    "    \n",
    "    ent_spell.config(state='normal')\n",
    "    submit_btn.config(state='normal')\n",
    "    repeat_btn.config(state='normal')\n",
    "    next_btn.config(state='disabled')\n",
    "    start_game_btn.grid_remove()\n",
    "    \n",
    "        \n",
    "    spelling_word=random.choice(word_list)\n",
    "    #answer.config(text=spelling_word)\n",
    "    random_word='Please spell, ' + spelling_word\n",
    "    word_list.remove(spelling_word)\n",
    "    print(str(len(word_list))+' words left.')\n",
    "\n",
    "    myText=random_word\n",
    "    language='en'\n",
    "\n",
    "    output=gTTS(text=myText,lang=language, slow=False)\n",
    "\n",
    "    output.save('/Users/krupasarna/Documents/output.mp3')\n",
    "\n",
    "    mixer.init()\n",
    "    mixer.music.load('/Users/krupasarna/Documents/output.mp3')\n",
    "    mixer.music.play()\n",
    "    \n",
    "    if q_num == 5:\n",
    "        Next.set('Finish')\n",
    "        next_btn.config(command=end_msg)\n",
    "            \n",
    "    if q_num >5:\n",
    "        info_label.grid()\n",
    "        info.set('You have finished the game!')\n",
    "        ent_spell.config(state='disabled')\n",
    "        \n",
    "        \n",
    "def end_msg():\n",
    "    \n",
    "    global score \n",
    "    global q_num\n",
    "    global round_num\n",
    "    \n",
    "    \n",
    "    info_label.grid()\n",
    "    info.set('You scored, ' +str(score) + ' out of ' + str(q_num) + '. Would you like to play again?')\n",
    "    yes_btn.grid()\n",
    "    no_btn.grid()\n",
    "    submit_btn.grid_remove()\n",
    "    next_btn.grid_remove()\n",
    "    ent_spell.grid_remove()\n",
    "    answer.grid_remove()\n",
    "    repeat_btn.grid_remove()\n",
    "    \n",
    "    cur.execute('''INSERT INTO Scores VALUES (?, ?)''', (round_num, score))\n",
    "    \n",
    "    \n",
    "def play_again():    \n",
    "    \n",
    "    global spelling_word\n",
    "    global word_list\n",
    "    global q_num\n",
    "    global score \n",
    "    global round_num\n",
    "    global myText\n",
    "    \n",
    "    \n",
    "    q_num=0\n",
    "    score=0\n",
    "    \n",
    "    \n",
    "    q_num=q_num+1\n",
    "    round_num=round_num+1\n",
    "    \n",
    "    info_label.grid_remove()\n",
    "    start_game_btn.grid_remove()\n",
    "    yes_btn.grid_remove()\n",
    "    no_btn.grid_remove()\n",
    "    ent_spell.grid()\n",
    "    ent_spell.config(state='normal')\n",
    "    submit_btn.grid()\n",
    "    submit_btn.config(state='normal')\n",
    "    next_btn.grid()\n",
    "    Next.set('Next')\n",
    "    next_btn.config(state='disabled')\n",
    "    next_btn.config(command=next_question)\n",
    "    answer.grid()\n",
    "    \n",
    "    \n",
    "    spelling_words='/Users/krupasarna/Documents/y2words.csv'\n",
    "    word_list = []\n",
    "    \n",
    "\n",
    "    with open(spelling_words,'r') as f:\n",
    "        word_list = f.read().split()\n",
    "    \n",
    "    \n",
    "        \n",
    "    spelling_word=random.choice(word_list)\n",
    "    #answer.config(text=spelling_word)\n",
    "    random_word='Please spell, ' + spelling_word\n",
    "    word_list.remove(spelling_word)\n",
    "    \n",
    "    \n",
    "    myText=random_word\n",
    "    language='en'\n",
    "\n",
    "    output=gTTS(text=myText,lang=language, slow=False)\n",
    "\n",
    "    output.save('/Users/krupasarna/Documents/output.mp3')\n",
    "\n",
    "    mixer.init()\n",
    "    mixer.music.load('/Users/krupasarna/Documents/output.mp3')\n",
    "    mixer.music.play()\n",
    "\n",
    "    print('this is round number, ' + str(round_num))\n",
    "    print('this is question number, ' + str(q_num))\n",
    "    print(str(len(word_list))+' words left.')\n",
    "\n",
    "\n",
    "def end_game():\n",
    "    info.set('Thank you for playing. You may close the window now.')\n",
    "    yes_btn.grid_remove()\n",
    "    no_btn.grid_remove()\n",
    "    \n",
    "    cur.execute('''SELECT round FROM Scores''')\n",
    "    sc_round=[item[0] for item in cur.fetchall()]\n",
    "    \n",
    "    cur.execute('''SELECT score FROM Scores''')\n",
    "    sc_score=[item[0] for item in cur.fetchall()]\n",
    "    print((sc_round),(sc_score))\n",
    "    \n",
    "    trace=go.Bar(x=sc_round, y=sc_score,\n",
    "            \n",
    "            \n",
    "            text=sc_score,\n",
    "            textposition='inside')\n",
    "            \n",
    "            \n",
    "    data=[trace]\n",
    "    layout=go.Layout(title='Spelling Score Card',\n",
    "                \n",
    "                \n",
    "                titlefont=dict(family='Arial', size=16),\n",
    "                \n",
    "                xaxis=dict(title='Round'),\n",
    "                xaxis_range=[0,5],\n",
    "                yaxis_range=[0,5],\n",
    "                yaxis=dict(title='Score')\n",
    "                       \n",
    "                    )\n",
    "    \n",
    "    fig=go.Figure(data=data, layout=layout)\n",
    "    offline.iplot(fig)\n",
    "   \n",
    "    \n",
    "#create a user entry box\n",
    "ent_spell=tk.Entry(width=50)\n",
    "ent_spell.grid(row=2, column=2, padx=20)   \n",
    "    \n",
    "#create a label widget to display info \n",
    "info_label=tk.Label(window, textvariable=info)\n",
    "info_label.grid(row=1, column=2)\n",
    "                \n",
    "#create a button to start the game \n",
    "start_game_btn=tk.Button(textvariable=start, command=start_game)\n",
    "start_game_btn.grid(row=3, column=4)\n",
    "\n",
    "#create a next button \n",
    "next_btn=tk.Button(textvariable=Next, command=next_question)\n",
    "next_btn.grid(row=3, column=4)\n",
    "\n",
    "#create a submit entry button \n",
    "submit_btn=tk.Button(text='Submit', command=submit_spelling)\n",
    "submit_btn.grid(row=3, column=2)\n",
    "\n",
    "#create a yes button\n",
    "yes_btn=tk.Button(text='Yes', command=play_again)\n",
    "yes_btn.grid(row=3, column=2)\n",
    "\n",
    "#create a no button \n",
    "no_btn=tk.Button(text='No', command=end_game)\n",
    "no_btn.grid(row=3, column=3)\n",
    "\n",
    "#create a repeat question button\n",
    "repeat_btn=tk.Button(text='Repeat', command=repeat_question)\n",
    "repeat_btn.grid(row=2, column=3)\n",
    "\n",
    "#create an answer in the GUI to display output messages \n",
    "answer=tk.Label(text='')\n",
    "answer.grid(row=4, column=2)\n",
    "\n",
    "\n",
    "welcome()\n",
    "\n",
    "\n",
    "#loop and close the window             \n",
    "window.mainloop()\n",
    "\n",
    "\n",
    "cur.close()\n",
    "conn.commit()\n",
    "conn.close()\n",
    "window.quit()"
   ]
  },
  {
   "cell_type": "code",
   "execution_count": null,
   "id": "impressed-surprise",
   "metadata": {},
   "outputs": [],
   "source": []
  },
  {
   "cell_type": "code",
   "execution_count": null,
   "id": "significant-athens",
   "metadata": {},
   "outputs": [],
   "source": []
  },
  {
   "cell_type": "code",
   "execution_count": null,
   "id": "canadian-commons",
   "metadata": {},
   "outputs": [],
   "source": []
  },
  {
   "cell_type": "code",
   "execution_count": null,
   "id": "appropriate-dispatch",
   "metadata": {},
   "outputs": [],
   "source": []
  },
  {
   "cell_type": "code",
   "execution_count": null,
   "id": "congressional-asthma",
   "metadata": {},
   "outputs": [],
   "source": []
  }
 ],
 "metadata": {
  "kernelspec": {
   "display_name": "Python 3",
   "language": "python",
   "name": "python3"
  },
  "language_info": {
   "codemirror_mode": {
    "name": "ipython",
    "version": 3
   },
   "file_extension": ".py",
   "mimetype": "text/x-python",
   "name": "python",
   "nbconvert_exporter": "python",
   "pygments_lexer": "ipython3",
   "version": "3.8.5"
  }
 },
 "nbformat": 4,
 "nbformat_minor": 5
}
